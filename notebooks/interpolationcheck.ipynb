{
 "cells": [
  {
   "cell_type": "code",
   "execution_count": 1,
   "metadata": {},
   "outputs": [],
   "source": [
    "import pandas as pd\n",
    "import numpy as np\n",
    "import matplotlib.pyplot as plt"
   ]
  },
  {
   "cell_type": "code",
   "execution_count": null,
   "metadata": {},
   "outputs": [],
   "source": [
    "import os\n",
    "import pathlib \n",
    "dataframes = []\n",
    "for f in pathlib.Path(\"/data/sjammi6/thesisproject/BlackHoleDiskProject/InitialData/routine2/data/processed_grids\").glob(\"*.h5\"):\n",
    "    dataframes.append(str(f))\n",
    "dataframes = [pd.read_hdf(f, key=\"df\") for f in dataframes]\n",
    "df_interpolated = pd.concat(dataframes, axis=0, ignore_index=True)\n",
    "df_interpolated"
   ]
  },
  {
   "cell_type": "code",
   "execution_count": null,
   "metadata": {},
   "outputs": [],
   "source": [
    "df_3d = pd.read_hdf(\"/data/sjammi6/thesisproject/BlackHoleDiskProject/InitialData/routine2/data/3D_data/all_data_routine1.h5\", key=\"df\")\n",
    "df_3d"
   ]
  },
  {
   "cell_type": "code",
   "execution_count": null,
   "metadata": {},
   "outputs": [],
   "source": [
    "column_names = [\n",
    "    \"x\",\n",
    "    \"z\",\n",
    "    \"r\",\n",
    "    \"theta\",\n",
    "    \"alpha\",\n",
    "    \"psi\",\n",
    "    \"q\",\n",
    "    \"betak\",\n",
    "    \"betat\",\n",
    "    \"dbetatdr\",\n",
    "    \"dbetatdt\",\n",
    "    \"He\",\n",
    "    \"Hf\",\n",
    "    \"Omega\",\n",
    "    \"b2\",\n",
    "    \"rho\",\n",
    "]\n",
    "df_2d = pd.read_csv(\"/data/sjammi6/thesisproject/BlackHoleDiskProject/InitialData/October_15_2024_22-05/2D_data/all_vars.dat\", delimiter=r\"\\s+\", header=None, names=column_names)\n",
    "df_2d"
   ]
  },
  {
   "cell_type": "code",
   "execution_count": null,
   "metadata": {},
   "outputs": [],
   "source": [
    "df_2d[\"phi\"] = np.float64(0.0)\n",
    "df_2d[\"y\"] = np.float64(0.0)\n",
    "df_2d[\"gxx\"] = (df_2d.psi**4 * np.exp(2 * df_2d.q)) * (\n",
    "    ((df_2d.x / df_2d.r) ** 2) + ((df_2d.z * np.cos(df_2d.phi) / df_2d.r) ** 2)\n",
    ") + np.sin(df_2d.phi) ** 2 * df_2d.psi**4\n",
    "df_2d[\"gxy\"] = (\n",
    "    df_2d.psi**4\n",
    "    * np.exp(2 * df_2d.q)\n",
    "    * (df_2d.x * df_2d.y / df_2d.r**2 + df_2d.z**2 * np.cos(df_2d.phi) * np.sin(df_2d.phi) / df_2d.r**2)\n",
    "    - np.sin(df_2d.phi) * np.cos(df_2d.phi) * df_2d.psi**4\n",
    ")\n",
    "df_2d[\"gxz\"] = (\n",
    "    df_2d.psi**4\n",
    "    * np.exp(2 * df_2d.q)\n",
    "    * (\n",
    "        df_2d.x * df_2d.z / df_2d.r**2\n",
    "        - df_2d.z * np.cos(df_2d.phi) * np.sqrt(df_2d.x**2 + df_2d.y**2) / df_2d.r**2\n",
    "    )\n",
    ")\n",
    "df_2d[\"gyy\"] = (\n",
    "    df_2d.psi**4\n",
    "    * np.exp(2 * df_2d.q)\n",
    "    * (df_2d.y**2 / df_2d.r**2 + df_2d.z**2 * np.sin(df_2d.phi) ** 2 / df_2d.r**2)\n",
    "    + np.cos(df_2d.phi) ** 2 * df_2d.psi**4\n",
    ")\n",
    "df_2d[\"gyz\"] = (\n",
    "    df_2d.psi**4\n",
    "    * np.exp(2 * df_2d.q)\n",
    "    * (\n",
    "        df_2d.y * df_2d.z / df_2d.r**2\n",
    "        - df_2d.z * np.sin(df_2d.phi) * np.sqrt(df_2d.x**2 + df_2d.y**2) / df_2d.r**2\n",
    "    )\n",
    ")\n",
    "df_2d[\"gzz\"] = (\n",
    "    df_2d.psi**4 * np.exp(2 * df_2d.q) * (df_2d.x**2 + df_2d.y**2) / df_2d.r**2\n",
    "    + df_2d.psi**4 * np.exp(2 * df_2d.q) * df_2d.z**2 / df_2d.r**2\n",
    ")\n",
    "df_2d_new_xplane = df_2d[((df_2d.theta == dict(df_2d.theta.describe())[\"max\"])) & (df_2d.phi == np.float64(0))]\n",
    "df_2d_new_xplane"
   ]
  },
  {
   "cell_type": "code",
   "execution_count": null,
   "metadata": {},
   "outputs": [],
   "source": [
    "df_3d_xplane = df_3d[(df_3d.theta == dict(df_3d.theta.describe())[\"50%\"]) & (df_3d.phi == dict(df_3d.phi.describe())[\"min\"])]\n",
    "df_3d_xplane = df_3d_xplane.sort_values(by=\"r\").drop_duplicates()\n",
    "df_3d_xplane.sort_values(by=\"r\")\n",
    "df_3d_xplane"
   ]
  },
  {
   "cell_type": "code",
   "execution_count": null,
   "metadata": {},
   "outputs": [],
   "source": [
    "df_interpolated_xplane = df_interpolated[(df_interpolated.theta == dict(df_interpolated.theta.describe())[\"50%\"]) & (df_interpolated.phi == dict(df_interpolated.phi.describe())[\"min\"])]\n",
    "df_interpolated_xplane = df_interpolated_xplane.sort_values(by=\"r\").drop_duplicates()\n",
    "df_interpolated_xplane.sort_values(by=\"r\")\n",
    "df_interpolated_xplane"
   ]
  },
  {
   "cell_type": "code",
   "execution_count": 4,
   "metadata": {},
   "outputs": [],
   "source": [
    "df_interpolated[\"r\"] = np.sqrt(df_interpolated.x**2 + df_interpolated.y**2 + df_interpolated.z**2)\n",
    "df_interpolated[\"theta\"] = np.where(df_interpolated.r != np.float64(0), np.arccos(df_interpolated.z / df_interpolated.r), np.float64(0))\n",
    "df_interpolated[\"phi\"] = np.arctan2(df_interpolated.y, df_interpolated.x) % (2 * np.pi)\n",
    "\n",
    "df_interpolated = df_interpolated.sort_values(['r', 'theta', 'phi'])"
   ]
  },
  {
   "cell_type": "code",
   "execution_count": 5,
   "metadata": {},
   "outputs": [],
   "source": [
    "df_interpolated = df_interpolated.map(lambda x: np.float64(0) if abs(x) <= 1e-10 else x)\n"
   ]
  },
  {
   "cell_type": "code",
   "execution_count": null,
   "metadata": {},
   "outputs": [],
   "source": [
    "interpolatedstats = dict(df_interpolated.describe())\n",
    "interpolatedstats"
   ]
  },
  {
   "cell_type": "code",
   "execution_count": null,
   "metadata": {},
   "outputs": [],
   "source": [
    "list(df_3d.columns)[3:]"
   ]
  },
  {
   "cell_type": "code",
   "execution_count": null,
   "metadata": {},
   "outputs": [],
   "source": [
    "for col in list(df_3d.columns)[3:]:\n",
    "    fig, ax = plt.subplots(figsize=(20,12))\n",
    "    plt.subplots_adjust(right=0.75)\n",
    "    plt.xlim(1e-6, 60)\n",
    "    plt.xscale('log')\n",
    "    #ax.plot(df_interpolated_xplane[\"x\"], df_interpolated_xplane[\"rho\"], color='#644117', label=\"interpolated data\")\n",
    "    #ax.plot(df_2d_new_xplane[\"r\"], df_2d_new_xplane[col], color='b', label=\"2d data\")\n",
    "    ax.plot(df_3d_xplane[\"r\"], df_3d_xplane[col], color='g', linestyle=\"--\", label=\"3d data\")\n",
    "    ax.plot(df_interpolated_xplane[\"x\"], df_interpolated_xplane[col], color='#644117', linestyle=\":\", label=\"interpolated data\")\n",
    "    ax.axvline(x=np.float64(12.0), color=\"#bc8f8f\", linestyle=\"--\", label=\"Inner Radius of Disk\")\n",
    "    ax.axvline(x=np.float64(30.0), color=\"#bc8f8f\", linestyle=\"--\", label=\"Inner Radius of Disk\")\n",
    "    ax.axvline(x=np.float64(0.3), color=\"#bb6528\", linestyle=\"--\", label=\"Horizon\")\n",
    "    plt.xlabel(\"r\")\n",
    "    plt.ylabel(col)\n",
    "    plt.title(\"{} vs r (y = 0, z= 0)\".format(col))\n",
    "    ax.legend(bbox_to_anchor=(1.05, 1), loc='upper left')\n",
    "\n",
    "    plt.show()"
   ]
  },
  {
   "cell_type": "code",
   "execution_count": 178,
   "metadata": {},
   "outputs": [],
   "source": [
    "def locate_point(\n",
    "    r_arr, theta_arr, phi_arr, p\n",
    "):  # r_arr, theta_arr, phi_arr define the ID grid, p defines a point in the new grid\n",
    "    # p should be a tuple (x,y,z) in cartesian coords\n",
    "    phi_arr = np.append(phi_arr[-2], np.append(phi_arr, phi_arr[1]))\n",
    "    x, y, z = p\n",
    "    r_0 = np.sqrt(x**2 + y**2 + z**2)\n",
    "    theta_0 = np.arccos(z / r_0)\n",
    "    skip = False\n",
    "    origin = False\n",
    "    phi_0 = np.arctan2(y, x)\n",
    "    phi_0 = phi_0 % (2 * np.pi)  # ensures phi takes values between [0,2pi]\n",
    "    ts = np.zeros(2, dtype=np.float64)\n",
    "    ps = np.zeros(2, dtype=np.float64)\n",
    "    rs = np.zeros(2, dtype=np.float64)\n",
    "    for i in range(1, len(phi_arr) - 1):\n",
    "        if phi_0 == phi_arr[i]:\n",
    "            ps[0] = phi_arr[i - 1]\n",
    "            ps[1] = phi_arr[i + 1]\n",
    "            break\n",
    "        if phi_arr[i] < phi_0 < phi_arr[i + 1]:\n",
    "            ps[0] = phi_arr[i]\n",
    "            ps[1] = phi_arr[i + 1]\n",
    "            break\n",
    "    if theta_0 == theta_arr[0]:\n",
    "        ts[0] = theta_arr[1]\n",
    "        ps = np.append(ps, np.array([phi_arr[-2] - ps[0], phi_arr[-2] - ps[1]]))\n",
    "        skip = True\n",
    "    if theta_0 == theta_arr[-1]:\n",
    "        ts[0] = theta_arr[-2]\n",
    "        ps = np.append(ps, np.array([phi_arr[-2] - ps[0], phi_arr[-2] - ps[1]]))\n",
    "        skip = True\n",
    "\n",
    "    if not skip:\n",
    "        for i in range(len(theta_arr)):\n",
    "            if theta_0 == theta_arr[i]:\n",
    "                ts[0] = theta_arr[i - 1]\n",
    "                ts[1] = theta_arr[i + 1] \n",
    "                break\n",
    "            if theta_arr[i] < theta_0 < theta_arr[i + 1]:\n",
    "                ts[0] = theta_arr[i]\n",
    "                ts[1] = theta_arr[i + 1]\n",
    "                break\n",
    "\n",
    "    for i in range(len(r_arr)):\n",
    "        if r_0 == r_arr[i]:\n",
    "            rs[0] = r_arr[i - 1]\n",
    "            rs[1] = r_arr[i + 1]\n",
    "            break\n",
    "        if r_arr[i] < r_0 < r_arr[i + 1]:\n",
    "            rs[0] = r_arr[i]\n",
    "            rs[1] = r_arr[i + 1]\n",
    "            break\n",
    "    tc = 8\n",
    "    if rs[0] == np.float64(0.0):\n",
    "        origin = True\n",
    "        tc = 5\n",
    "\n",
    "    combinations = np.zeros((tc, 3), dtype=np.float64)\n",
    "\n",
    "    if origin:\n",
    "        combinations[0] = np.array([np.float64(0), np.float64(0), np.float64(0)])\n",
    "        if skip:\n",
    "            combinations[1] = np.array([rs[1], ts[0], ps[0]])\n",
    "            combinations[2] = np.array([rs[1], ts[0], ps[1]])\n",
    "            combinations[3] = np.array([rs[1], ts[0], ps[2]])\n",
    "            combinations[4] = np.array([rs[1], ts[0], ps[3]])\n",
    "        else:\n",
    "            combinations[1] = np.array([rs[1], ts[0], ps[0]])\n",
    "            combinations[2] = np.array([rs[1], ts[0], ps[1]])\n",
    "            combinations[3] = np.array([rs[1], ts[1], ps[0]])\n",
    "            combinations[4] = np.array([rs[1], ts[1], ps[1]])\n",
    "    else:\n",
    "        if skip:\n",
    "            combinations[0] = np.array([rs[0], ts[0], ps[0]])\n",
    "            combinations[1] = np.array([rs[0], ts[0], ps[1]])\n",
    "            combinations[2] = np.array([rs[0], ts[0], ps[2]])\n",
    "            combinations[3] = np.array([rs[0], ts[0], ps[3]])\n",
    "            combinations[4] = np.array([rs[1], ts[0], ps[0]])\n",
    "            combinations[5] = np.array([rs[1], ts[0], ps[1]])\n",
    "            combinations[6] = np.array([rs[1], ts[0], ps[2]])\n",
    "            combinations[7] = np.array([rs[1], ts[0], ps[3]])\n",
    "        else:\n",
    "            combinations[0] = np.array([rs[0], ts[0], ps[0]])\n",
    "            combinations[1] = np.array([rs[0], ts[0], ps[1]])\n",
    "            combinations[2] = np.array([rs[0], ts[1], ps[0]])\n",
    "            combinations[3] = np.array([rs[0], ts[1], ps[1]])\n",
    "            combinations[4] = np.array([rs[1], ts[0], ps[0]])\n",
    "            combinations[5] = np.array([rs[1], ts[0], ps[1]])\n",
    "            combinations[6] = np.array([rs[1], ts[1], ps[0]])\n",
    "            combinations[7] = np.array([rs[1], ts[1], ps[1]])\n",
    "\n",
    "    return combinations \n",
    "\n",
    "\n"
   ]
  },
  {
   "cell_type": "code",
   "execution_count": 43,
   "metadata": {},
   "outputs": [],
   "source": [
    "def calc_weighted_average(points, scalar_vals, p):\n",
    "    d = np.sum(np.abs((points - p)), axis=1)\n",
    "    if any(d <= 1e-9):\n",
    "        return scalar_vals[np.argmin(d)]\n",
    "    weights = 1 / d\n",
    "    weights = weights.reshape((-1, 1))\n",
    "    return np.sum(weights * scalar_vals, axis=0) / np.sum(weights)"
   ]
  },
  {
   "cell_type": "code",
   "execution_count": 15,
   "metadata": {},
   "outputs": [],
   "source": [
    "x = np.linspace(0, 10, 11)\n",
    "y = np.linspace(0, 10, 11)\n",
    "z = np.linspace(0, 10, 11)"
   ]
  },
  {
   "cell_type": "code",
   "execution_count": 16,
   "metadata": {},
   "outputs": [],
   "source": [
    "cartesian_points = np.array([[i, j, k] for i in x for j in y for k in z])"
   ]
  },
  {
   "cell_type": "code",
   "execution_count": null,
   "metadata": {},
   "outputs": [],
   "source": [
    "cartesian_points"
   ]
  },
  {
   "cell_type": "code",
   "execution_count": 46,
   "metadata": {},
   "outputs": [],
   "source": [
    "def cart_to_spher(x, y, z):\n",
    "    r = np.sqrt(x**2 + y**2 + z**2)\n",
    "    theta = np.arccos(z / r) if r != 0 else np.float64(0)\n",
    "    phi = np.arctan2(y, x) % (2 * np.pi)\n",
    "    return np.array([r, theta, phi])"
   ]
  },
  {
   "cell_type": "code",
   "execution_count": null,
   "metadata": {},
   "outputs": [],
   "source": [
    "spherical_points = np.array([cart_to_spher(i, j, k) for i, j, k in cartesian_points])"
   ]
  },
  {
   "cell_type": "code",
   "execution_count": 20,
   "metadata": {},
   "outputs": [],
   "source": [
    "spherical_points[0] = np.array([np.float64(0), np.float64(0), np.float64(0)])"
   ]
  },
  {
   "cell_type": "code",
   "execution_count": null,
   "metadata": {},
   "outputs": [],
   "source": [
    "spherical_points"
   ]
  },
  {
   "cell_type": "code",
   "execution_count": 22,
   "metadata": {},
   "outputs": [],
   "source": [
    "p = np.array([3.2, 2.9, 3.1])"
   ]
  },
  {
   "cell_type": "code",
   "execution_count": 23,
   "metadata": {},
   "outputs": [],
   "source": [
    "r_arr = np.unique(spherical_points[:, 0])\n",
    "phi_arr = np.unique(spherical_points[:, 2])\n",
    "theta_arr = np.unique(spherical_points[:, 1])"
   ]
  },
  {
   "cell_type": "code",
   "execution_count": 24,
   "metadata": {},
   "outputs": [],
   "source": [
    "pdata = locate_point(r_arr, theta_arr, phi_arr, p)"
   ]
  },
  {
   "cell_type": "code",
   "execution_count": null,
   "metadata": {},
   "outputs": [],
   "source": [
    "pdata"
   ]
  },
  {
   "cell_type": "code",
   "execution_count": 25,
   "metadata": {},
   "outputs": [],
   "source": [
    "def spherical2cart(r, t, p):\n",
    "    x = r * np.sin(t) * np.cos(p)\n",
    "    y = r * np.sin(t) * np.sin(p)\n",
    "    z = r * np.cos(t)\n",
    "    return (x, y, z)\n"
   ]
  },
  {
   "cell_type": "code",
   "execution_count": 26,
   "metadata": {},
   "outputs": [],
   "source": [
    "carpdata = np.array([spherical2cart(i, j, k) for i, j, k in pdata])"
   ]
  },
  {
   "cell_type": "code",
   "execution_count": null,
   "metadata": {},
   "outputs": [],
   "source": [
    "carpdata"
   ]
  },
  {
   "cell_type": "code",
   "execution_count": 47,
   "metadata": {},
   "outputs": [],
   "source": [
    "cardatatwo = np.array([spherical2cart(i, j, k) for i, j, k in spherical_points])"
   ]
  },
  {
   "cell_type": "code",
   "execution_count": null,
   "metadata": {},
   "outputs": [],
   "source": [
    "cardatatwo"
   ]
  },
  {
   "cell_type": "code",
   "execution_count": null,
   "metadata": {},
   "outputs": [],
   "source": [
    "pdata"
   ]
  },
  {
   "cell_type": "code",
   "execution_count": 14,
   "metadata": {},
   "outputs": [],
   "source": [
    "def locate_point(\n",
    "    r_arr, theta_arr, phi_arr, p\n",
    "):  # r_arr, theta_arr, phi_arr define the ID grid, p defines a point in the new grid\n",
    "    # p should be a tuple (x,y,z) in cartesian coords\n",
    "    phi_arr = np.append(phi_arr[-2], np.append(phi_arr, phi_arr[1]))\n",
    "    x, y, z = p\n",
    "    r_0 = np.sqrt(x**2 + y**2 + z**2)\n",
    "    theta_0 = np.arccos(z / r_0)\n",
    "    skip = False\n",
    "    origin = False\n",
    "    phi_0 = np.arctan2(y, x)\n",
    "    phi_0 = phi_0 % (2 * np.pi)  # ensures phi takes values between [0,2pi]\n",
    "    ts = []\n",
    "    ps = []\n",
    "    rs = []\n",
    "    for i in range(1, len(phi_arr) - 1):\n",
    "        if phi_0 == phi_arr[i]:\n",
    "            ps.append(phi_arr[i - 1])\n",
    "            ps.append(phi_arr[i + 1])\n",
    "            break\n",
    "        if phi_arr[i] < phi_0 < phi_arr[i + 1]:\n",
    "            ps.append(phi_arr[i])\n",
    "            ps.append(phi_arr[i + 1])\n",
    "            break\n",
    "    ps = np.array(ps)\n",
    "    if theta_0 == theta_arr[0]:\n",
    "        ts.append(theta_arr[1])\n",
    "        ps = np.append(ps, np.array([phi_arr[-2] - ps[0], phi_arr[-2] - ps[1]]))\n",
    "        skip = True\n",
    "    if theta_0 == theta_arr[-1]:\n",
    "        ts.append(theta_arr[-2])\n",
    "        ps = np.append(ps, np.array([phi_arr[-2] - ps[0], phi_arr[-2] - ps[1]]))\n",
    "        skip = True\n",
    "    if not skip:\n",
    "        for i in range(len(theta_arr)):\n",
    "            if theta_0 == theta_arr[i]:\n",
    "                ts.append(theta_arr[i - 1])\n",
    "                ts.append(theta_arr[i + 1])\n",
    "                #ts[0] = theta_arr[i - 1]\n",
    "                #ts[1] = theta_arr[i + 1] \n",
    "                break\n",
    "            if theta_arr[i] < theta_0 < theta_arr[i + 1]:\n",
    "                ts.append(theta_arr[i])\n",
    "                ts.append(theta_arr[i + 1])\n",
    "                #ts[0] = theta_arr[i]\n",
    "                #ts[1] = theta_arr[i + 1]\n",
    "                break\n",
    "    ts = np.array(ts)\n",
    "    for i in range(len(r_arr)):\n",
    "        if r_0 == r_arr[i]:\n",
    "            rs.append(r_arr[i - 1])\n",
    "            rs.append(r_arr[i + 1])\n",
    "            #rs[0] = r_arr[i - 1]\n",
    "            #rs[1] = r_arr[i + 1]\n",
    "            break\n",
    "        if r_arr[i] < r_0 < r_arr[i + 1]:\n",
    "            rs.append(r_arr[i])\n",
    "            rs.append(r_arr[i + 1])\n",
    "            #rs[0] = r_arr[i]\n",
    "            #rs[1] = r_arr[i + 1]\n",
    "            break\n",
    "    rs = np.array(rs)\n",
    "    tc = 8\n",
    "    combinations = []\n",
    "\n",
    "    if origin:\n",
    "        combinations.append(np.array([np.float64(0), np.float64(0), np.float64(0)]))\n",
    "        for t in ts:\n",
    "            for p in ps:\n",
    "                combinations.append(np.array([rs[1], t, p]))\n",
    "    else:\n",
    "        for r in rs:\n",
    "            for t in ts:\n",
    "                for p in ps:\n",
    "                    combinations.append(np.array([r, t, p]))\n",
    "\n",
    "    return np.array(combinations)"
   ]
  },
  {
   "cell_type": "code",
   "execution_count": 31,
   "metadata": {},
   "outputs": [],
   "source": [
    "cartes_spher_cart = np.array([spherical2cart(i, j, k) for i, j, k in spherical_points])"
   ]
  },
  {
   "cell_type": "code",
   "execution_count": null,
   "metadata": {},
   "outputs": [],
   "source": [
    "cartes_spher_cart"
   ]
  },
  {
   "cell_type": "code",
   "execution_count": null,
   "metadata": {},
   "outputs": [],
   "source": [
    "r_arr"
   ]
  },
  {
   "cell_type": "code",
   "execution_count": 177,
   "metadata": {},
   "outputs": [],
   "source": [
    "import numpy as np\n",
    "\n",
    "def locate_point(r_arr, theta_arr, phi_arr, p):\n",
    "    x, y, z = p\n",
    "    r_0 = np.sqrt(x**2 + y**2 + z**2)\n",
    "    theta_0 = np.arccos(z / r_0) if r_0 != 0 else np.float64(0)\n",
    "    phi_0 = np.arctan2(y, x) % (2 * np.pi)\n",
    "\n",
    "    # Find nearest indices\n",
    "    r_idx_1 = np.searchsorted(r_arr, r_0) - 1\n",
    "    r_idx_2 = np.searchsorted(r_arr, r_0, side=\"right\")\n",
    "    theta_idx_1 = np.searchsorted(theta_arr, theta_0) - 1\n",
    "    theta_idx_2 = np.searchsorted(theta_arr, theta_0, side=\"right\")\n",
    "    phi_idx_1 = np.searchsorted(phi_arr, phi_0) - 1\n",
    "    phi_idx_2 = np.searchsorted(phi_arr, phi_0, side=\"right\")\n",
    "    \n",
    "    theta_edge_case = False\n",
    "    if theta_idx_1 == -1:\n",
    "        theta_idx_1 = 1\n",
    "        theta_edge_case = True\n",
    "    if theta_idx_2 == len(theta_arr) + 1:\n",
    "        theta_idx_2 = theta_idx_1\n",
    "        theta_edge_case = True\n",
    "    if phi_idx_1 == -1:\n",
    "        phi_idx_1 = len(phi_arr) - 2\n",
    "    if phi_idx_2 == len(phi_arr) + 1:\n",
    "        phi_idx_2 = 1\n",
    "    # Handle edge cases\n",
    "    #theta_idx = min(max(theta_idx, 1), len(theta_arr) - 1)\n",
    "    #phi_idx = min(max(phi_idx, 1), len(phi_arr) - 1)\n",
    "\n",
    "    # Get surrounding points\n",
    "    rs = [r_arr[r_idx_1], r_arr[r_idx_2]]\n",
    "    print(rs)\n",
    "    ts = [theta_arr[theta_idx_1], theta_arr[theta_idx_2]]\n",
    "    print(ts)\n",
    "    #ts = theta_arr[theta_idx-1:theta_idx+1]\n",
    "    ps = [phi_arr[phi_idx_1], phi_arr[phi_idx_2]]\n",
    "    if theta_edge_case:\n",
    "        ps.append(phi_arr[-2] - ps[0]) \n",
    "        ps.append(phi_arr[-2] - ps[1])\n",
    "    #ps = phi_arr[phi_idx-1:phi_idx+1]\n",
    "    print(ps)\n",
    "    # Generate all combinations\n",
    "    combinations = np.array(np.meshgrid(rs, ts, ps)).T.reshape(-1, 3)\n",
    "    z = combinations[:, 0] == np.float64(0)\n",
    "    combinations[z] = np.array([np.float64(0), np.float64(0), np.float64(0)])\n",
    "    combinations = np.unique(combinations, axis=0)\n",
    "    return combinations\n"
   ]
  },
  {
   "cell_type": "code",
   "execution_count": 158,
   "metadata": {},
   "outputs": [],
   "source": [
    "r_arr = np.unique(spherical_points[:, 0])\n",
    "theta_arr = np.unique(spherical_points[:, 1])\n",
    "phi_arr = np.unique(spherical_points[:, 2])"
   ]
  },
  {
   "cell_type": "code",
   "execution_count": 159,
   "metadata": {},
   "outputs": [],
   "source": [
    "p = np.array([3.2, 2.9, 3.1])"
   ]
  },
  {
   "cell_type": "code",
   "execution_count": 160,
   "metadata": {},
   "outputs": [],
   "source": [
    "xs = [np.float64(3), np.float64(4)]\n",
    "ys = [np.float64(2), np.float64(3)]\n",
    "zs = [np.float64(3), np.float64(4)]\n",
    "tmpcombs = np.array(np.meshgrid(xs, ys, zs)).T.reshape(-1, 3)"
   ]
  },
  {
   "cell_type": "code",
   "execution_count": null,
   "metadata": {},
   "outputs": [],
   "source": [
    "tmpcombs"
   ]
  },
  {
   "cell_type": "code",
   "execution_count": 162,
   "metadata": {},
   "outputs": [],
   "source": [
    "tmpcombs_spherical = np.array([cart_to_spher(i, j, k) for i, j, k in tmpcombs])"
   ]
  },
  {
   "cell_type": "code",
   "execution_count": null,
   "metadata": {},
   "outputs": [],
   "source": [
    "tmpcombs_spherical"
   ]
  },
  {
   "cell_type": "code",
   "execution_count": null,
   "metadata": {},
   "outputs": [],
   "source": [
    "res = locate_point(r_arr, theta_arr, phi_arr, p)"
   ]
  },
  {
   "cell_type": "code",
   "execution_count": null,
   "metadata": {},
   "outputs": [],
   "source": [
    "res"
   ]
  },
  {
   "cell_type": "code",
   "execution_count": 57,
   "metadata": {},
   "outputs": [],
   "source": [
    "cart_res = np.array([spherical2cart(i, j, k) for i, j, k in res])"
   ]
  },
  {
   "cell_type": "code",
   "execution_count": null,
   "metadata": {},
   "outputs": [],
   "source": [
    "cart_res"
   ]
  },
  {
   "cell_type": "code",
   "execution_count": null,
   "metadata": {},
   "outputs": [],
   "source": [
    "cart_to_spher(p[0], p[1], p[2])"
   ]
  },
  {
   "cell_type": "code",
   "execution_count": 173,
   "metadata": {},
   "outputs": [],
   "source": [
    "d = res[:, 0] == tmp\n",
    "res[d] = np.array([np.float64(0), np.float64(0), np.float64(0)])"
   ]
  },
  {
   "cell_type": "code",
   "execution_count": null,
   "metadata": {},
   "outputs": [],
   "source": [
    "tmp = res[0][0]\n",
    "tmp"
   ]
  },
  {
   "cell_type": "code",
   "execution_count": null,
   "metadata": {},
   "outputs": [],
   "source": [
    "res"
   ]
  },
  {
   "cell_type": "code",
   "execution_count": null,
   "metadata": {},
   "outputs": [],
   "source": [
    "np.unique(res, axis=0)"
   ]
  },
  {
   "cell_type": "code",
   "execution_count": 63,
   "metadata": {},
   "outputs": [],
   "source": [
    "tmpa = np.linspace(0, 10, 11)"
   ]
  },
  {
   "cell_type": "code",
   "execution_count": null,
   "metadata": {},
   "outputs": [],
   "source": [
    "tmpa"
   ]
  },
  {
   "cell_type": "code",
   "execution_count": 149,
   "metadata": {},
   "outputs": [],
   "source": [
    "ti = np.searchsorted(tmpa, 10) - 1\n",
    "tt = np.searchsorted(tmpa, 10, side='right')"
   ]
  },
  {
   "cell_type": "code",
   "execution_count": null,
   "metadata": {},
   "outputs": [],
   "source": [
    "tt"
   ]
  },
  {
   "cell_type": "code",
   "execution_count": null,
   "metadata": {},
   "outputs": [],
   "source": [
    "ti"
   ]
  },
  {
   "cell_type": "code",
   "execution_count": 76,
   "metadata": {},
   "outputs": [],
   "source": [
    "idx = min(max(ti, 1), len(tmpa) - 1)\n",
    "#    r_idx = min(max(r_idx, 1), len(r_arr) - 1)\n",
    "#    theta_idx = min(max(theta_idx, 1), len(theta_arr) - 1)\n",
    "#    phi_idx = min(max(phi_idx, 1), len(phi_arr) - 1)\n"
   ]
  },
  {
   "cell_type": "code",
   "execution_count": null,
   "metadata": {},
   "outputs": [],
   "source": [
    "idx"
   ]
  },
  {
   "cell_type": "code",
   "execution_count": null,
   "metadata": {},
   "outputs": [],
   "source": [
    "list(tmpa)[-1]"
   ]
  },
  {
   "cell_type": "code",
   "execution_count": 110,
   "metadata": {},
   "outputs": [],
   "source": [
    "a= [i for i in range(10)]"
   ]
  },
  {
   "cell_type": "code",
   "execution_count": null,
   "metadata": {},
   "outputs": [],
   "source": [
    "a[-1]"
   ]
  },
  {
   "cell_type": "code",
   "execution_count": 113,
   "metadata": {},
   "outputs": [],
   "source": [
    "a = [1, 1]\n",
    "b = [2, 3]\n",
    "c = [4, 5]\n",
    "d = [6, 7]\n"
   ]
  },
  {
   "cell_type": "code",
   "execution_count": 123,
   "metadata": {},
   "outputs": [],
   "source": [
    "tmpcombs = np.array(np.meshgrid(a, c, d)).T.reshape(-1, 3)"
   ]
  },
  {
   "cell_type": "code",
   "execution_count": null,
   "metadata": {},
   "outputs": [],
   "source": [
    "tmpcombs"
   ]
  },
  {
   "cell_type": "code",
   "execution_count": null,
   "metadata": {},
   "outputs": [],
   "source": [
    "np.unique(tmpcombs, axis=0)"
   ]
  },
  {
   "cell_type": "code",
   "execution_count": null,
   "metadata": {},
   "outputs": [],
   "source": [
    "foo = []\n",
    "for y in c:\n",
    "    for z in d:\n",
    "        for x in b:\n",
    "            foo.append([x, y, z])\n",
    "            print(x, y, z)"
   ]
  },
  {
   "cell_type": "code",
   "execution_count": null,
   "metadata": {},
   "outputs": [],
   "source": [
    "np.sort(foo)"
   ]
  },
  {
   "cell_type": "code",
   "execution_count": null,
   "metadata": {},
   "outputs": [],
   "source": [
    "foo"
   ]
  },
  {
   "cell_type": "code",
   "execution_count": 16,
   "metadata": {},
   "outputs": [],
   "source": [
    "p = [np.float64(13.2), np.float64(0), np.float64(0)]"
   ]
  },
  {
   "cell_type": "code",
   "execution_count": 24,
   "metadata": {},
   "outputs": [],
   "source": [
    "def locate_point(r_arr, theta_arr, phi_arr, p):\n",
    "    x, y, z = p\n",
    "    r_0 = np.sqrt(x**2 + y**2 + z**2)\n",
    "    theta_0 = np.arccos(z / r_0) if r_0 != 0 else np.float64(0)\n",
    "    phi_0 = np.arctan2(y, x) % (2 * np.pi)\n",
    "\n",
    "    # Find nearest indices\n",
    "    r_idx_1 = np.searchsorted(r_arr, r_0) - 1\n",
    "    r_idx_2 = np.searchsorted(r_arr, r_0, side=\"right\")\n",
    "    theta_idx_1 = np.searchsorted(theta_arr, theta_0) - 1\n",
    "    theta_idx_2 = np.searchsorted(theta_arr, theta_0, side=\"right\")\n",
    "    phi_idx_1 = np.searchsorted(phi_arr, phi_0) - 1\n",
    "    phi_idx_2 = np.searchsorted(phi_arr, phi_0, side=\"right\")\n",
    "    \n",
    "    theta_edge_case = False\n",
    "    if theta_idx_1 == -1:\n",
    "        theta_idx_1 = 1\n",
    "        theta_edge_case = True\n",
    "    if theta_idx_2 == len(theta_arr) + 1:\n",
    "        theta_idx_2 = theta_idx_1\n",
    "        theta_edge_case = True\n",
    "    if phi_idx_1 == -1:\n",
    "        phi_idx_1 = len(phi_arr) - 2\n",
    "    if phi_idx_2 == len(phi_arr) + 1:\n",
    "        phi_idx_2 = 1\n",
    "    # Handle edge cases\n",
    "\n",
    "    # Get surrounding points\n",
    "    rs = [r_arr[r_idx_1], r_arr[r_idx_2]]\n",
    "    ts = [theta_arr[theta_idx_1], theta_arr[theta_idx_2]]\n",
    "    ps = [phi_arr[phi_idx_1], phi_arr[phi_idx_2]]\n",
    "    if theta_edge_case:\n",
    "        ps.append(phi_arr[-2] - ps[0]) \n",
    "        ps.append(phi_arr[-2] - ps[1])\n",
    "    # Generate all combinations\n",
    "    combinations = np.array(np.meshgrid(rs, ts, ps)).T.reshape(-1, 3)\n",
    "    z = combinations[:, 0] == np.float64(0)\n",
    "    combinations[z] = np.array([np.float64(0), np.float64(0), np.float64(0)])\n",
    "    combinations = np.unique(combinations, axis=0)\n",
    "    return combinations\n",
    "\n",
    "\n",
    "def calc_weighted_average(points, scalar_vals, p):\n",
    "    d = np.sum(np.abs((points - p)), axis=1)\n",
    "    if np.any(d <= 1e-6):\n",
    "        return scalar_vals[np.argmin(d)]\n",
    "    weights = 1 / d\n",
    "    weights = weights.reshape((-1, 1))\n",
    "    return np.sum(weights * scalar_vals, axis=0) / np.sum(weights)\n",
    "\n",
    "\n",
    "def spherical2cart(r, t, p):\n",
    "    x = r * np.sin(t) * np.cos(p)\n",
    "    y = r * np.sin(t) * np.sin(p)\n",
    "    z = r * np.cos(t)\n",
    "    return (x, y, z)\n",
    "\n",
    "\n",
    "def interpolate_point(p, df, rad_arr, theta_arr, phi_arr, idx_point_map):\n",
    "    surroundingpoints = locate_point(rad_arr, theta_arr, phi_arr, p)  # numpy array\n",
    "    carpointdata = []\n",
    "    scalardata = []\n",
    "    for point in surroundingpoints:\n",
    "        tmpr, tmpt, tmpp = point\n",
    "        rowIndex = idx_point_map[(tmpr, tmpt, tmpp)]\n",
    "        rowdata = df.iloc[rowIndex]\n",
    "        tmpx, tmpy, tmpz = spherical2cart(tmpr, tmpt, tmpp)\n",
    "        carpointdata.append([tmpx, tmpy, tmpz])\n",
    "        scalardata.append(rowdata[3:])\n",
    "    carpointdata = np.array(carpointdata)\n",
    "    scalardata = np.array(scalardata)\n",
    "    interpolateddata = calc_weighted_average(carpointdata, scalardata, p)\n",
    "    return np.hstack((p, interpolateddata))\n"
   ]
  },
  {
   "cell_type": "code",
   "execution_count": null,
   "metadata": {},
   "outputs": [],
   "source": [
    "print(\"PREPROCESSING DATA\")\n",
    "rad_arr = np.sort(df_3d.r.unique())\n",
    "theta_arr = np.sort(df_3d.theta.unique())\n",
    "phi_arr = np.sort(df_3d.phi.unique())\n",
    "idx_point_map = {\n",
    "    (r, theta, phi): index\n",
    "    for index, (r, theta, phi) in enumerate(zip(df_3d[\"r\"], df_3d[\"theta\"], df_3d[\"phi\"]))\n",
    "}"
   ]
  },
  {
   "cell_type": "code",
   "execution_count": null,
   "metadata": {},
   "outputs": [],
   "source": [
    "locate_point(rad_arr, theta_arr, phi_arr, [13.2, 0, 0])"
   ]
  },
  {
   "cell_type": "code",
   "execution_count": null,
   "metadata": {},
   "outputs": [],
   "source": [
    "interpolate_point([13.2, 0, 0], df_3d, rad_arr, theta_arr, phi_arr, idx_point_map)"
   ]
  },
  {
   "cell_type": "code",
   "execution_count": 53,
   "metadata": {},
   "outputs": [],
   "source": [
    "surroundingpoints = locate_point(rad_arr, theta_arr, phi_arr, p)  # numpy array\n",
    "pnew = cart_to_spher(p[0], p[1], p[2])\n",
    "#carpointdata = []\n",
    "scalardata = []\n",
    "for point in surroundingpoints:\n",
    "    tmpr, tmpt, tmpp = point\n",
    "    rowIndex = idx_point_map[(tmpr, tmpt, tmpp)]\n",
    "    rowdata = df_3d.iloc[rowIndex]\n",
    "    #tmpx, tmpy, tmpz = spherical2cart(tmpr, tmpt, tmpp)\n",
    "    #carpointdata.append([tmpx, tmpy, tmpz])\n",
    "    scalardata.append(rowdata[3:])\n",
    "scalardata_two = np.array(scalardata)\n",
    "interpolateddata = calc_weighted_average(surroundingpoints, scalardata_two, pnew)"
   ]
  },
  {
   "cell_type": "code",
   "execution_count": null,
   "metadata": {},
   "outputs": [],
   "source": []
  },
  {
   "cell_type": "code",
   "execution_count": null,
   "metadata": {},
   "outputs": [],
   "source": [
    "df_3d_xplane[(df_3d.r < np.float64(15)) & (df_3d.r > np.float64(10)) & (df_3d.theta == np.float64(0))]"
   ]
  },
  {
   "cell_type": "code",
   "execution_count": null,
   "metadata": {},
   "outputs": [],
   "source": [
    "surroundingpoints"
   ]
  },
  {
   "cell_type": "code",
   "execution_count": null,
   "metadata": {},
   "outputs": [],
   "source": [
    "df_3d.phi.unique()"
   ]
  },
  {
   "cell_type": "code",
   "execution_count": null,
   "metadata": {},
   "outputs": [],
   "source": [
    "6.346652e-02"
   ]
  },
  {
   "cell_type": "code",
   "execution_count": null,
   "metadata": {},
   "outputs": [],
   "source": [
    "df_3d.iloc[6322401]"
   ]
  },
  {
   "cell_type": "code",
   "execution_count": null,
   "metadata": {},
   "outputs": [],
   "source": [
    "scalardata"
   ]
  },
  {
   "cell_type": "code",
   "execution_count": 35,
   "metadata": {},
   "outputs": [],
   "source": [
    "cols = list(df_3d.columns[3:])"
   ]
  },
  {
   "cell_type": "code",
   "execution_count": null,
   "metadata": {},
   "outputs": [],
   "source": [
    "cols"
   ]
  },
  {
   "cell_type": "code",
   "execution_count": null,
   "metadata": {},
   "outputs": [],
   "source": [
    "df_3d_xplane = df_3d[(df_3d.theta == dict(df_3d.theta.describe())[\"50%\"]) & (df_3d.r == np.float64(13.078883))]\n",
    "df_3d_xplane = df_3d_xplane.sort_values(by=\"phi\").drop_duplicates()\n",
    "df_3d_xplane.sort_values(by=\"phi\")\n",
    "df_3d_xplane"
   ]
  },
  {
   "cell_type": "code",
   "execution_count": null,
   "metadata": {},
   "outputs": [],
   "source": []
  }
 ],
 "metadata": {
  "kernelspec": {
   "display_name": "thesisproject",
   "language": "python",
   "name": "python3"
  },
  "language_info": {
   "codemirror_mode": {
    "name": "ipython",
    "version": 3
   },
   "file_extension": ".py",
   "mimetype": "text/x-python",
   "name": "python",
   "nbconvert_exporter": "python",
   "pygments_lexer": "ipython3",
   "version": "3.12.3"
  }
 },
 "nbformat": 4,
 "nbformat_minor": 4
}
