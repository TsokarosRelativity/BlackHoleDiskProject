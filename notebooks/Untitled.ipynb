{
 "cells": [
  {
   "cell_type": "code",
   "execution_count": 1,
   "id": "7baabc78-0e08-4059-bc49-584f46b13a45",
   "metadata": {},
   "outputs": [],
   "source": [
    "import pandas as pd\n",
    "import numpy as np"
   ]
  },
  {
   "cell_type": "code",
   "execution_count": 4,
   "id": "e519887b-bbab-41e5-b7c6-d8199da33082",
   "metadata": {},
   "outputs": [
    {
     "data": {
      "text/plain": [
       "array([[1., 4., 5.],\n",
       "       [1., 4., 6.],\n",
       "       [1., 4., 7.],\n",
       "       [1., 4., 8.],\n",
       "       [1., 5., 5.],\n",
       "       [1., 5., 6.],\n",
       "       [1., 5., 7.],\n",
       "       [1., 5., 8.],\n",
       "       [1., 6., 5.],\n",
       "       [1., 6., 6.],\n",
       "       [1., 6., 7.],\n",
       "       [1., 6., 8.],\n",
       "       [1., 7., 5.],\n",
       "       [1., 7., 6.],\n",
       "       [1., 7., 7.],\n",
       "       [1., 7., 8.]])"
      ]
     },
     "execution_count": 4,
     "metadata": {},
     "output_type": "execute_result"
    }
   ],
   "source": [
    "cgrids = np.loadtxt(\"/home/shreyjam/scratch/research/thesis/BlackHoleDiskProject/src/initialdata/cartesian_coords.txt\")\n",
    "cgrids"
   ]
  },
  {
   "cell_type": "code",
   "execution_count": 5,
   "id": "128a3fda-792d-478b-8b34-f1c918d24fbb",
   "metadata": {},
   "outputs": [
    {
     "data": {
      "text/plain": [
       "array([[ 6.480741 ,  0.6895746,  1.325818 ],\n",
       "       [ 7.28011  ,  0.6020729,  1.325818 ],\n",
       "       [ 8.124038 ,  0.5323032,  1.325818 ],\n",
       "       [ 9.       ,  0.4758822,  1.325818 ],\n",
       "       [ 7.141428 ,  0.7952027,  1.373401 ],\n",
       "       [ 7.874008 ,  0.7043992,  1.373401 ],\n",
       "       [ 8.660254 ,  0.6295537,  1.373401 ],\n",
       "       [ 9.486833 ,  0.5674505,  1.373401 ],\n",
       "       [ 7.874008 ,  0.882787 ,  1.405648 ],\n",
       "       [ 8.544004 ,  0.7922477,  1.405648 ],\n",
       "       [ 9.273618 ,  0.7154023,  1.405648 ],\n",
       "       [10.04988  ,  0.6500893,  1.405648 ],\n",
       "       [ 8.660254 ,  0.9553166,  1.428899 ],\n",
       "       [ 9.273618 ,  0.8671574,  1.428899 ],\n",
       "       [ 9.949874 ,  0.7904488,  1.428899 ],\n",
       "       [10.67708  ,  0.7238393,  1.428899 ]])"
      ]
     },
     "execution_count": 5,
     "metadata": {},
     "output_type": "execute_result"
    }
   ],
   "source": [
    "sgrid = np.loadtxt(\"/home/shreyjam/scratch/research/thesis/BlackHoleDiskProject/src/initialdata/spherical_coords.txt\")\n",
    "sgrid"
   ]
  },
  {
   "cell_type": "code",
   "execution_count": 6,
   "id": "b3955dd3-c20a-41c0-b220-7a3785b52d3e",
   "metadata": {},
   "outputs": [],
   "source": [
    "def cartesiantospherical(arr):\n",
    "    r = np.sqrt(arr[:, 0]**2 + arr[:, 1]**2 + arr[:, 2]**2)\n",
    "    theta = np.where(r != 0.0, np.arccos(np.clip(arr[:, 2] / r, -1.0, 1.0)), 0.0)\n",
    "    phi = np.arctan2(arr[:, 1], arr[:, 0])\n",
    "    new_grid = np.column_stack((r, theta, phi))\n",
    "    new_grid = np.where(abs(new_grid) < 1e-14, np.float64(0), new_grid)\n",
    "    return new_grid\n"
   ]
  },
  {
   "cell_type": "code",
   "execution_count": 7,
   "id": "9d557079-55b8-4745-9b13-4da25ef98c98",
   "metadata": {},
   "outputs": [],
   "source": [
    "tmpsgrid = cartesiantospherical(cgrids)"
   ]
  },
  {
   "cell_type": "code",
   "execution_count": 8,
   "id": "7052089f-298a-42cb-8c11-00721d31dc09",
   "metadata": {},
   "outputs": [
    {
     "data": {
      "text/plain": [
       "array([[ 6.4807407 ,  0.68957457,  1.32581766],\n",
       "       [ 7.28010989,  0.60207292,  1.32581766],\n",
       "       [ 8.1240384 ,  0.5323032 ,  1.32581766],\n",
       "       [ 9.        ,  0.47588225,  1.32581766],\n",
       "       [ 7.14142843,  0.79520271,  1.37340077],\n",
       "       [ 7.87400787,  0.70439919,  1.37340077],\n",
       "       [ 8.66025404,  0.62955368,  1.37340077],\n",
       "       [ 9.48683298,  0.56745048,  1.37340077],\n",
       "       [ 7.87400787,  0.88278698,  1.40564765],\n",
       "       [ 8.54400375,  0.79224769,  1.40564765],\n",
       "       [ 9.2736185 ,  0.71540232,  1.40564765],\n",
       "       [10.04987562,  0.6500893 ,  1.40564765],\n",
       "       [ 8.66025404,  0.95531662,  1.42889927],\n",
       "       [ 9.2736185 ,  0.86715738,  1.42889927],\n",
       "       [ 9.94987437,  0.79044875,  1.42889927],\n",
       "       [10.67707825,  0.72383925,  1.42889927]])"
      ]
     },
     "execution_count": 8,
     "metadata": {},
     "output_type": "execute_result"
    }
   ],
   "source": [
    "tmpsgrid"
   ]
  },
  {
   "cell_type": "code",
   "execution_count": 9,
   "id": "1c716080-ed6c-481c-b05b-a6e8052e65f3",
   "metadata": {},
   "outputs": [
    {
     "data": {
      "text/plain": [
       "array([[-3.01592140e-07, -3.40902598e-08, -3.36331967e-07],\n",
       "       [-1.10719482e-07,  2.02613331e-08, -3.36331967e-07],\n",
       "       [ 4.04635960e-07,  3.58414665e-09, -3.36331967e-07],\n",
       "       [ 0.00000000e+00,  4.96604167e-08, -3.36331967e-07],\n",
       "       [ 4.28542850e-07,  1.32896781e-08, -2.33054984e-07],\n",
       "       [-1.25988189e-07, -1.38881144e-08, -2.33054984e-07],\n",
       "       [ 3.78443872e-08, -2.33184507e-08, -2.33054984e-07],\n",
       "       [-1.94948626e-08, -2.47211629e-08, -2.33054984e-07],\n",
       "       [-1.25988189e-07, -1.52353749e-08, -3.50619730e-07],\n",
       "       [-2.54682469e-07, -7.30082172e-09, -3.50619730e-07],\n",
       "       [ 4.95495703e-07,  1.95202120e-08, -3.50619730e-07],\n",
       "       [-4.37887911e-06,  1.00656261e-10, -3.50619730e-07],\n",
       "       [ 3.78443872e-08,  1.81245093e-08,  2.72190733e-07],\n",
       "       [ 4.95495703e-07, -2.45098386e-08,  2.72190733e-07],\n",
       "       [ 3.71066200e-07, -4.56639238e-08,  2.72190733e-07],\n",
       "       [-1.74796869e-06, -4.58456690e-08,  2.72190733e-07]])"
      ]
     },
     "execution_count": 9,
     "metadata": {},
     "output_type": "execute_result"
    }
   ],
   "source": [
    "tmpsgrid - sgrid"
   ]
  },
  {
   "cell_type": "code",
   "execution_count": null,
   "id": "c3335891-d66e-4a9c-a52a-5cbf01e1e3e2",
   "metadata": {},
   "outputs": [],
   "source": []
  }
 ],
 "metadata": {
  "kernelspec": {
   "display_name": "Python 3 (ipykernel)",
   "language": "python",
   "name": "python3"
  },
  "language_info": {
   "codemirror_mode": {
    "name": "ipython",
    "version": 3
   },
   "file_extension": ".py",
   "mimetype": "text/x-python",
   "name": "python",
   "nbconvert_exporter": "python",
   "pygments_lexer": "ipython3",
   "version": "3.12.3"
  }
 },
 "nbformat": 4,
 "nbformat_minor": 5
}
