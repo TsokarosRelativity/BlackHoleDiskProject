{
 "cells": [
  {
   "cell_type": "code",
   "execution_count": 18,
   "metadata": {},
   "outputs": [],
   "source": [
    "import pandas as pd \n",
    "import numpy as np\n",
    "import matplotlib.pyplot as plt"
   ]
  },
  {
   "cell_type": "code",
   "execution_count": 15,
   "metadata": {},
   "outputs": [],
   "source": [
    "kerrm = 1\n",
    "kerra = 0.8\n",
    "r_s = 0.5 * np.sqrt(kerrm**2 - kerra**2)\n",
    "def locate_point(r_arr, theta_arr, phi_arr, p):\n",
    "    x, y, z = p\n",
    "    r_0 = np.sqrt(x**2 + y**2 + z**2)\n",
    "    theta_0 = np.arccos(z / r_0) if r_0 != 0 else np.float64(0)\n",
    "    phi_0 = np.arctan2(y, x) % (2 * np.pi)\n",
    "\n",
    "    # Find nearest indices\n",
    "    r_idx_1 = np.searchsorted(r_arr, r_0) - 1\n",
    "    r_idx_2 = np.searchsorted(r_arr, r_0, side=\"right\")\n",
    "    theta_idx_1 = np.searchsorted(theta_arr, theta_0) - 1\n",
    "    theta_idx_2 = np.searchsorted(theta_arr, theta_0, side=\"right\")\n",
    "    phi_idx_1 = np.searchsorted(phi_arr, phi_0) - 1\n",
    "    phi_idx_2 = np.searchsorted(phi_arr, phi_0, side=\"right\")\n",
    "\n",
    "    theta_edge_case = False\n",
    "    if theta_idx_1 == -1:\n",
    "        theta_idx_1 = 1\n",
    "        theta_edge_case = True\n",
    "    if theta_idx_2 == len(theta_arr):\n",
    "        theta_idx_2 = theta_idx_1\n",
    "        theta_edge_case = True\n",
    "    if phi_idx_1 == -1:\n",
    "        phi_idx_1 = len(phi_arr) - 1\n",
    "    if phi_idx_2 == len(phi_arr):\n",
    "        phi_idx_2 = 0\n",
    "    if phi_idx_1 == len(phi_arr):\n",
    "        phi_idx_1 = len(phi_arr) - 1\n",
    "    # Handle edge cases\n",
    "    # Get surrounding points\n",
    "    rs = [r_arr[r_idx_1], r_arr[r_idx_2]]\n",
    "    ts = [theta_arr[theta_idx_1], theta_arr[theta_idx_2]]\n",
    "    ps = [phi_arr[phi_idx_1], phi_arr[phi_idx_2]]\n",
    "    if theta_edge_case:\n",
    "        phi_idx_3 = (phi_idx_1 + len(phi_arr) // 2) % len(phi_arr)\n",
    "        phi_idx_4 = (phi_idx_2 + len(phi_arr) // 2) % len(phi_arr)\n",
    "        ps = [phi_arr[phi_idx_3], phi_arr[phi_idx_4]]\n",
    "    # Generate all combinations\n",
    "    combinations = np.array(np.meshgrid(rs, ts, ps)).T.reshape(-1, 3)\n",
    "    z = combinations[:, 0] == np.float64(0)\n",
    "    combinations[z] = np.array([np.float64(0), np.float64(0), np.float64(0)])\n",
    "    combinations = np.unique(combinations, axis=0)\n",
    "    return combinations\n",
    "def calc_weighted_average(points, scalar_vals, p):\n",
    "    d = np.sum(np.abs((points - p)**2), axis=1)\n",
    "    weights = 1 / d\n",
    "    weights = weights.reshape((-1, 1))\n",
    "    return np.sum(weights * scalar_vals, axis=0) / np.sum(weights)\n",
    "\n",
    "\n",
    "def spherical2cart(r, t, p):\n",
    "    x = r * np.sin(t) * np.cos(p)\n",
    "    y = r * np.sin(t) * np.sin(p)\n",
    "    z = r * np.cos(t)\n",
    "    return (x, y, z)\n",
    "\n",
    "\n",
    "def interpolate_point(p, df, rad_arr, theta_arr, phi_arr, idx_point_map):\n",
    "    surroundingpoints = locate_point(rad_arr, theta_arr, phi_arr, p)  # numpy array\n",
    "    carpointdata = []\n",
    "    scalardata = []\n",
    "    for point in surroundingpoints:\n",
    "        tmpr, tmpt, tmpp = point\n",
    "        rowIndex = idx_point_map[(tmpr, tmpt, tmpp)]\n",
    "        rowdata = df.iloc[rowIndex]\n",
    "        tmpx, tmpy, tmpz = spherical2cart(tmpr, tmpt, tmpp)\n",
    "        carpointdata.append([tmpx, tmpy, tmpz])\n",
    "        scalardata.append(rowdata[3:])\n",
    "    carpointdata = np.array(carpointdata)\n",
    "    scalardata = np.array(scalardata)\n",
    "    interpolateddata = calc_weighted_average(carpointdata, scalardata, p)\n",
    "    return np.hstack((p, interpolateddata))\n"
   ]
  },
  {
   "cell_type": "code",
   "execution_count": 11,
   "metadata": {},
   "outputs": [],
   "source": [
    "tmppoints = np.array([[0, 0, 0], [0, 0, 1], [0, 1, 0], [1, 0, 0], [1, 1, 1], [1, 1, 0], [1, 0, 1], [0, 1, 1]])\n",
    "def f(x):\n",
    "    return np.array([x[0]**2 + x[1]**2 + x[2]**2, (x[0]*x[1]*x[2])**2, x[0] * x[1] * x[2]])\n",
    "tmpscalarvals = np.array([f(x) for x in tmppoints])\n",
    "interpolatedtmp = calc_weighted_average(tmppoints, tmpscalarvals, np.array([0.5, 0.5, 0.5]))\n",
    "\n",
    "#def calc_weighted_average(points, scalar_vals, p):\n",
    "    #d = np.sum(np.abs((points - p)), axis=1)\n",
    "    #weights = 1 / d\n",
    "    #weights = weights.reshape((-1, 1))\n",
    "    #return np.sum(weights * scalar_vals, axis=0) / np.sum(weights)"
   ]
  },
  {
   "cell_type": "code",
   "execution_count": 12,
   "metadata": {},
   "outputs": [
    {
     "data": {
      "text/plain": [
       "array([0.75    , 0.015625, 0.125   ])"
      ]
     },
     "execution_count": 12,
     "metadata": {},
     "output_type": "execute_result"
    }
   ],
   "source": [
    "truetmp = f(np.array([0.5, 0.5, 0.5]))\n",
    "truetmp"
   ]
  },
  {
   "cell_type": "code",
   "execution_count": 13,
   "metadata": {},
   "outputs": [
    {
     "data": {
      "text/plain": [
       "array([1.5  , 0.125, 0.125])"
      ]
     },
     "execution_count": 13,
     "metadata": {},
     "output_type": "execute_result"
    }
   ],
   "source": [
    "interpolatedtmp"
   ]
  },
  {
   "cell_type": "code",
   "execution_count": 16,
   "metadata": {},
   "outputs": [
    {
     "data": {
      "text/plain": [
       "array([12,  1,  1])"
      ]
     },
     "execution_count": 16,
     "metadata": {},
     "output_type": "execute_result"
    }
   ],
   "source": [
    "np.sum(tmpscalarvals, axis=0)"
   ]
  },
  {
   "cell_type": "code",
   "execution_count": 17,
   "metadata": {},
   "outputs": [
    {
     "data": {
      "text/plain": [
       "array([[0, 0, 0],\n",
       "       [1, 0, 0],\n",
       "       [1, 0, 0],\n",
       "       [1, 0, 0],\n",
       "       [3, 1, 1],\n",
       "       [2, 0, 0],\n",
       "       [2, 0, 0],\n",
       "       [2, 0, 0]])"
      ]
     },
     "execution_count": 17,
     "metadata": {},
     "output_type": "execute_result"
    }
   ],
   "source": [
    "tmpscalarvals"
   ]
  },
  {
   "cell_type": "code",
   "execution_count": null,
   "metadata": {},
   "outputs": [],
   "source": []
  }
 ],
 "metadata": {
  "kernelspec": {
   "display_name": "thesisproject",
   "language": "python",
   "name": "python3"
  },
  "language_info": {
   "codemirror_mode": {
    "name": "ipython",
    "version": 3
   },
   "file_extension": ".py",
   "mimetype": "text/x-python",
   "name": "python",
   "nbconvert_exporter": "python",
   "pygments_lexer": "ipython3",
   "version": "3.12.3"
  }
 },
 "nbformat": 4,
 "nbformat_minor": 2
}
