{
 "cells": [
  {
   "cell_type": "code",
   "execution_count": 44,
   "metadata": {},
   "outputs": [],
   "source": [
    "import pandas as pd\n",
    "import numpy as np\n",
    "import matplotlib.pyplot as plt"
   ]
  },
  {
   "cell_type": "code",
   "execution_count": null,
   "metadata": {},
   "outputs": [],
   "source": [
    "df_3d = pd.read_hdf(\"/data/sjammi6/thesisproject/BlackHoleDiskProject/InitialData/October_15_2024_22-05/3D_data/all_data_routine1.h5\", key=\"df\")\n",
    "df_3d"
   ]
  },
  {
   "cell_type": "code",
   "execution_count": 46,
   "metadata": {},
   "outputs": [],
   "source": [
    "stats_df_3d = dict(df_3d.describe())"
   ]
  },
  {
   "cell_type": "code",
   "execution_count": null,
   "metadata": {},
   "outputs": [],
   "source": [
    "df_3d.r.unique()"
   ]
  },
  {
   "cell_type": "code",
   "execution_count": null,
   "metadata": {},
   "outputs": [],
   "source": [
    "stats_df_3d[\"theta\"]"
   ]
  },
  {
   "cell_type": "code",
   "execution_count": 49,
   "metadata": {},
   "outputs": [],
   "source": [
    "exp_3d = df_3d[(df_3d[\"theta\"] == stats_df_3d[\"theta\"][\"50%\"]) & (df_3d[\"r\"] < np.float64(14)) & (df_3d[\"r\"] > np.float64(13))]"
   ]
  },
  {
   "cell_type": "code",
   "execution_count": null,
   "metadata": {},
   "outputs": [],
   "source": [
    "exp_3d.r.unique()[0]"
   ]
  },
  {
   "cell_type": "code",
   "execution_count": 51,
   "metadata": {},
   "outputs": [],
   "source": [
    "exp_3d_two = df_3d[(df_3d[\"theta\"] == stats_df_3d[\"theta\"][\"50%\"]) & (df_3d[\"r\"] == exp_3d.r.unique()[0])]"
   ]
  },
  {
   "cell_type": "code",
   "execution_count": null,
   "metadata": {},
   "outputs": [],
   "source": [
    "exp_3d_two.theta.unique()"
   ]
  },
  {
   "cell_type": "code",
   "execution_count": null,
   "metadata": {},
   "outputs": [],
   "source": [
    "for col in list(df_3d.columns)[3:]:\n",
    "    fig, ax = plt.subplots(figsize=(20,12))\n",
    "    plt.subplots_adjust(right=0.75)\n",
    "    #ax.plot(df_interpolated_xplane[\"x\"], df_interpolated_xplane[\"rho\"], color='#644117', label=\"interpolated data\")\n",
    "    #ax.plot(df_2d_new_xplane[\"r\"], df_2d_new_xplane[col], color='b', label=\"2d data\")\n",
    "    ax.plot(exp_3d_two[\"phi\"], exp_3d_two[col], color='g', label=\"3d data\")\n",
    "    #ax.plot(df_interpolated_xplane[\"x\"], df_interpolated_xplane[col], color='#644117', linestyle=\":\", label=\"interpolated data\")\n",
    "    plt.xlabel(\"phi\")\n",
    "    plt.ylabel(col)\n",
    "    plt.title(\"{} vs phi (r = {}, theta = {})\".format(col,exp_3d_two.r.unique()[0] , exp_3d_two.theta.unique()))\n",
    "    ax.legend(bbox_to_anchor=(1.05, 1), loc='upper left')\n",
    "    plt.savefig(\"phi_vs_{}_3d.png\".format(col))\n",
    "\n",
    "    plt.show()"
   ]
  },
  {
   "cell_type": "code",
   "execution_count": null,
   "metadata": {},
   "outputs": [],
   "source": [
    "column_names = [\n",
    "    \"x\",\n",
    "    \"z\",\n",
    "    \"r\",\n",
    "    \"theta\",\n",
    "    \"alpha\",\n",
    "    \"psi\",\n",
    "    \"q\",\n",
    "    \"betak\",\n",
    "    \"betat\",\n",
    "    \"dbetatdr\",\n",
    "    \"dbetatdt\",\n",
    "    \"He\",\n",
    "    \"Hf\",\n",
    "    \"Omega\",\n",
    "    \"b2\",\n",
    "    \"rho\",\n",
    "]\n",
    "df_2d = pd.read_csv(\"/data/sjammi6/thesisproject/BlackHoleDiskProject/InitialData/October_15_2024_22-05/2D_data/all_vars.dat\", delimiter=r\"\\s+\", header=None, names=column_names)\n",
    "df_2d"
   ]
  },
  {
   "cell_type": "code",
   "execution_count": 55,
   "metadata": {},
   "outputs": [],
   "source": [
    "n_phi = 100\n",
    "\n",
    "\n",
    "df_2d = pd.DataFrame(np.repeat(df_2d.values, n_phi, axis=0), columns=df_2d.columns)\n",
    "num_rows = len(df_2d)\n",
    "phi_values = np.linspace(0, 2 * np.pi, num_rows % n_phi or n_phi)\n",
    "df_2d[\"phi\"] = np.tile(phi_values, num_rows // n_phi + 1)[:num_rows]\n",
    "df_2d[\"x\"] = df_2d.r * np.sin(df_2d.theta) * np.cos(df_2d.phi)\n",
    "df_2d[\"y\"] = df_2d.r * np.sin(df_2d.theta) * np.sin(df_2d.phi)\n",
    "df_2d[\"z\"] = df_2d.r * np.cos(df_2d.theta)\n",
    "# Explicitly calculating gamma_ab in Cartesian coordinates\n",
    "df_2d[\"gxx\"] = (df_2d.psi**4 * np.exp(2 * df_2d.q)) * (\n",
    "    ((df_2d.x / df_2d.r) ** 2) + ((df_2d.z * np.cos(df_2d.phi) / df_2d.r) ** 2)\n",
    ") + np.sin(df_2d.phi) ** 2 * df_2d.psi**4\n",
    "df_2d[\"gxy\"] = (\n",
    "    df_2d.psi**4\n",
    "    * np.exp(2 * df_2d.q)\n",
    "    * (df_2d.x * df_2d.y / df_2d.r**2 + df_2d.z**2 * np.cos(df_2d.phi) * np.sin(df_2d.phi) / df_2d.r**2)\n",
    "    - np.sin(df_2d.phi) * np.cos(df_2d.phi) * df_2d.psi**4\n",
    ")\n",
    "df_2d[\"gxz\"] = (\n",
    "    df_2d.psi**4\n",
    "    * np.exp(2 * df_2d.q)\n",
    "    * (\n",
    "        df_2d.x * df_2d.z / df_2d.r**2\n",
    "        - df_2d.z * np.cos(df_2d.phi) * np.sqrt(df_2d.x**2 + df_2d.y**2) / df_2d.r**2\n",
    "    )\n",
    ")\n",
    "df_2d[\"gyy\"] = (\n",
    "    df_2d.psi**4\n",
    "    * np.exp(2 * df_2d.q)\n",
    "    * (df_2d.y**2 / df_2d.r**2 + df_2d.z**2 * np.sin(df_2d.phi) ** 2 / df_2d.r**2)\n",
    "    + np.cos(df_2d.phi) ** 2 * df_2d.psi**4\n",
    ")\n",
    "df_2d[\"gyz\"] = (\n",
    "    df_2d.psi**4\n",
    "    * np.exp(2 * df_2d.q)\n",
    "    * (\n",
    "        df_2d.y * df_2d.z / df_2d.r**2\n",
    "        - df_2d.z * np.sin(df_2d.phi) * np.sqrt(df_2d.x**2 + df_2d.y**2) / df_2d.r**2\n",
    "    )\n",
    ")\n",
    "df_2d[\"gzz\"] = (\n",
    "    df_2d.psi**4 * np.exp(2 * df_2d.q) * (df_2d.x**2 + df_2d.y**2) / df_2d.r**2\n",
    "    + df_2d.psi**4 * np.exp(2 * df_2d.q) * df_2d.z**2 / df_2d.r**2\n",
    ")\n",
    "\n"
   ]
  },
  {
   "cell_type": "code",
   "execution_count": null,
   "metadata": {},
   "outputs": [],
   "source": [
    "stats_2d = dict(df_2d.describe())\n",
    "stats_2d[\"phi\"]"
   ]
  },
  {
   "cell_type": "code",
   "execution_count": null,
   "metadata": {},
   "outputs": [],
   "source": [
    "list(df_2d.columns)[4:]"
   ]
  },
  {
   "cell_type": "code",
   "execution_count": null,
   "metadata": {},
   "outputs": [],
   "source": [
    "df_2d_new_phiplane = df_2d[(df_2d.r ==exp_3d.r.unique()[0]) & ((df_2d.theta == dict(df_2d.theta.describe())[\"max\"]))]\n",
    "df_2d_new_phiplane\n"
   ]
  },
  {
   "cell_type": "code",
   "execution_count": null,
   "metadata": {},
   "outputs": [],
   "source": [
    "df_2d_new_thetaplane = df_2d[(df_2d.r ==exp_3d.r.unique()[0]) & (df_2d.phi == stats_2d[\"phi\"][\"min\"])]\n",
    "df_2d_new_thetaplane\n"
   ]
  },
  {
   "cell_type": "code",
   "execution_count": null,
   "metadata": {},
   "outputs": [],
   "source": [
    "df_2d_new_xplane = df_2d[((df_2d.theta == dict(df_2d.theta.describe())[\"max\"])) & (df_2d.phi == stats_2d[\"phi\"][\"min\"])]\n",
    "df_2d_new_xplane"
   ]
  },
  {
   "cell_type": "code",
   "execution_count": null,
   "metadata": {},
   "outputs": [],
   "source": []
  },
  {
   "cell_type": "code",
   "execution_count": null,
   "metadata": {},
   "outputs": [],
   "source": [
    "for col in list(df_2d.columns)[4:]:\n",
    "    fig, ax = plt.subplots(figsize=(20,12))\n",
    "    plt.subplots_adjust(right=0.75)\n",
    "    plt.xlim(1e-6, 100)\n",
    "    plt.xscale('log')\n",
    "    #ax.plot(df_interpolated_xplane[\"x\"], df_interpolated_xplane[\"rho\"], color='#644117', label=\"interpolated data\")\n",
    "    #ax.plot(df_2d_new_xplane[\"r\"], df_2d_new_xplane[col], color='b', label=\"2d data\")\n",
    "    ax.plot(df_2d_new_xplane[\"r\"], df_2d_new_xplane[col], color='g', label=\"2d data\")\n",
    "    ax.axvline(x=np.float64(12.0), color=\"#bc8f8f\", linestyle=\"--\", label=\"Outer Radius of Disk\")\n",
    "    ax.axvline(x=np.float64(30.0), color=\"#bc8f8f\", linestyle=\"--\", label=\"Inner Radius of Disk\")\n",
    "    ax.axvline(x=np.float64(0.3), color=\"#bb6528\", linestyle=\"--\", label=\"Horizon\")\n",
    "    #ax.plot(df_interpolated_xplane[\"x\"], df_interpolated_xplane[col], color='#644117', linestyle=\":\", label=\"interpolated data\")\n",
    "    plt.xlabel(\"r\")\n",
    "    plt.ylabel(col)\n",
    "    plt.title(\"{} vs r (phi = {}, theta = {})\".format(col, df_2d_new_xplane.phi.unique()[0], df_2d_new_xplane.theta.unique()[0]))\n",
    "    ax.legend(bbox_to_anchor=(1.05, 1), loc='upper left')\n",
    "    plt.savefig(\"r_vs_{}_2d.png\".format(col))\n",
    "\n",
    "    plt.show()\n",
    "for col in list(df_2d.columns)[4:]:\n",
    "    fig, ax = plt.subplots(figsize=(20,12))\n",
    "    plt.subplots_adjust(right=0.75)\n",
    "    #ax.plot(df_interpolated_xplane[\"x\"], df_interpolated_xplane[\"rho\"], color='#644117', label=\"interpolated data\")\n",
    "    #ax.plot(df_2d_new_xplane[\"r\"], df_2d_new_xplane[col], color='b', label=\"2d data\")\n",
    "    ax.plot(df_2d_new_thetaplane[\"theta\"], df_2d_new_thetaplane[col], color='g', label=\"2d data\")\n",
    "    #ax.plot(df_interpolated_xplane[\"x\"], df_interpolated_xplane[col], color='#644117', linestyle=\":\", label=\"interpolated data\")\n",
    "    plt.xlabel(\"theta\")\n",
    "    plt.ylabel(col)\n",
    "    plt.title(\"{} vs theta (r = {}, phi = {})\".format(col, df_2d_new_thetaplane.r.unique()[0], df_2d_new_thetaplane.phi.unique()[0]))\n",
    "    ax.legend(bbox_to_anchor=(1.05, 1), loc='upper left')\n",
    "    plt.savefig(\"theta_vs_{}_2d.png\".format(col))\n",
    "\n",
    "    plt.show()\n",
    "for col in list(df_2d.columns)[4:]:\n",
    "    fig, ax = plt.subplots(figsize=(20,12))\n",
    "    plt.subplots_adjust(right=0.75)\n",
    "    #ax.plot(df_interpolated_xplane[\"x\"], df_interpolated_xplane[\"rho\"], color='#644117', label=\"interpolated data\")\n",
    "    #ax.plot(df_2d_new_xplane[\"r\"], df_2d_new_xplane[col], color='b', label=\"2d data\")\n",
    "    ax.plot(df_2d_new_phiplane[\"phi\"], df_2d_new_phiplane[col], color='g', label=\"2d data\")\n",
    "    #ax.plot(df_interpolated_xplane[\"x\"], df_interpolated_xplane[col], color='#644117', linestyle=\":\", label=\"interpolated data\")\n",
    "    plt.xlabel(\"phi\")\n",
    "    plt.ylabel(col)\n",
    "    plt.title(\"{} vs phi (r = {}, theta = {})\".format(col, df_2d_new_phiplane.r.unique()[0], df_2d_new_phiplane.theta.unique()[0]))\n",
    "    ax.legend(bbox_to_anchor=(1.05, 1), loc='upper left')\n",
    "    plt.savefig(\"phi_vs_{}_2d.png\".format(col))\n",
    "\n",
    "    plt.show()"
   ]
  },
  {
   "cell_type": "code",
   "execution_count": null,
   "metadata": {},
   "outputs": [],
   "source": [
    "exp_3d_two"
   ]
  },
  {
   "cell_type": "code",
   "execution_count": null,
   "metadata": {},
   "outputs": [],
   "source": []
  }
 ],
 "metadata": {
  "kernelspec": {
   "display_name": "thesisproject",
   "language": "python",
   "name": "python3"
  },
  "language_info": {
   "codemirror_mode": {
    "name": "ipython",
    "version": 3
   },
   "file_extension": ".py",
   "mimetype": "text/x-python",
   "name": "python",
   "nbconvert_exporter": "python",
   "pygments_lexer": "ipython3",
   "version": "3.12.3"
  }
 },
 "nbformat": 4,
 "nbformat_minor": 2
}
