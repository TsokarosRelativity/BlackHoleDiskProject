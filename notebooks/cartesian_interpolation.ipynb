{
 "cells": [
  {
   "cell_type": "code",
   "execution_count": 1,
   "metadata": {},
   "outputs": [],
   "source": [
    "import pandas as pd \n",
    "import numpy as np\n",
    "import matplotlib.pyplot as plt\n",
    "from scipy.spatial import KDTree"
   ]
  },
  {
   "cell_type": "code",
   "execution_count": 87,
   "metadata": {},
   "outputs": [
    {
     "data": {
      "text/html": [
       "<div>\n",
       "<style scoped>\n",
       "    .dataframe tbody tr th:only-of-type {\n",
       "        vertical-align: middle;\n",
       "    }\n",
       "\n",
       "    .dataframe tbody tr th {\n",
       "        vertical-align: top;\n",
       "    }\n",
       "\n",
       "    .dataframe thead th {\n",
       "        text-align: right;\n",
       "    }\n",
       "</style>\n",
       "<table border=\"1\" class=\"dataframe\">\n",
       "  <thead>\n",
       "    <tr style=\"text-align: right;\">\n",
       "      <th></th>\n",
       "      <th>r</th>\n",
       "      <th>theta</th>\n",
       "      <th>phi</th>\n",
       "      <th>alpha</th>\n",
       "      <th>beta__x</th>\n",
       "      <th>beta__y</th>\n",
       "      <th>beta__z</th>\n",
       "      <th>psi</th>\n",
       "      <th>gxx</th>\n",
       "      <th>gxy</th>\n",
       "      <th>...</th>\n",
       "      <th>Kyy</th>\n",
       "      <th>Kyz</th>\n",
       "      <th>Kzz</th>\n",
       "      <th>rho</th>\n",
       "      <th>u__x</th>\n",
       "      <th>u__y</th>\n",
       "      <th>u__z</th>\n",
       "      <th>A_x</th>\n",
       "      <th>A_y</th>\n",
       "      <th>A_z</th>\n",
       "    </tr>\n",
       "  </thead>\n",
       "  <tbody>\n",
       "    <tr>\n",
       "      <th>0</th>\n",
       "      <td>0.300000</td>\n",
       "      <td>0.000000</td>\n",
       "      <td>0.000000</td>\n",
       "      <td>0.000000</td>\n",
       "      <td>-0.234914</td>\n",
       "      <td>0.0</td>\n",
       "      <td>0.0</td>\n",
       "      <td>2.453739</td>\n",
       "      <td>36.250454</td>\n",
       "      <td>0.000000e+00</td>\n",
       "      <td>...</td>\n",
       "      <td>0.000000e+00</td>\n",
       "      <td>0.0</td>\n",
       "      <td>0.0</td>\n",
       "      <td>0.0</td>\n",
       "      <td>0.0</td>\n",
       "      <td>0.0</td>\n",
       "      <td>0.0</td>\n",
       "      <td>0.000000e+00</td>\n",
       "      <td>0.000000e+00</td>\n",
       "      <td>0.0</td>\n",
       "    </tr>\n",
       "    <tr>\n",
       "      <th>1</th>\n",
       "      <td>0.300000</td>\n",
       "      <td>0.000000</td>\n",
       "      <td>0.062832</td>\n",
       "      <td>0.000000</td>\n",
       "      <td>-0.234914</td>\n",
       "      <td>0.0</td>\n",
       "      <td>0.0</td>\n",
       "      <td>2.453739</td>\n",
       "      <td>36.250454</td>\n",
       "      <td>0.000000e+00</td>\n",
       "      <td>...</td>\n",
       "      <td>0.000000e+00</td>\n",
       "      <td>0.0</td>\n",
       "      <td>0.0</td>\n",
       "      <td>0.0</td>\n",
       "      <td>0.0</td>\n",
       "      <td>0.0</td>\n",
       "      <td>0.0</td>\n",
       "      <td>0.000000e+00</td>\n",
       "      <td>0.000000e+00</td>\n",
       "      <td>0.0</td>\n",
       "    </tr>\n",
       "    <tr>\n",
       "      <th>2</th>\n",
       "      <td>0.300000</td>\n",
       "      <td>0.000000</td>\n",
       "      <td>0.125664</td>\n",
       "      <td>0.000000</td>\n",
       "      <td>-0.234914</td>\n",
       "      <td>0.0</td>\n",
       "      <td>0.0</td>\n",
       "      <td>2.453739</td>\n",
       "      <td>36.250454</td>\n",
       "      <td>0.000000e+00</td>\n",
       "      <td>...</td>\n",
       "      <td>0.000000e+00</td>\n",
       "      <td>0.0</td>\n",
       "      <td>0.0</td>\n",
       "      <td>0.0</td>\n",
       "      <td>0.0</td>\n",
       "      <td>0.0</td>\n",
       "      <td>0.0</td>\n",
       "      <td>0.000000e+00</td>\n",
       "      <td>0.000000e+00</td>\n",
       "      <td>0.0</td>\n",
       "    </tr>\n",
       "    <tr>\n",
       "      <th>3</th>\n",
       "      <td>0.300000</td>\n",
       "      <td>0.000000</td>\n",
       "      <td>0.188496</td>\n",
       "      <td>0.000000</td>\n",
       "      <td>-0.234914</td>\n",
       "      <td>0.0</td>\n",
       "      <td>0.0</td>\n",
       "      <td>2.453739</td>\n",
       "      <td>36.250454</td>\n",
       "      <td>0.000000e+00</td>\n",
       "      <td>...</td>\n",
       "      <td>0.000000e+00</td>\n",
       "      <td>0.0</td>\n",
       "      <td>0.0</td>\n",
       "      <td>0.0</td>\n",
       "      <td>0.0</td>\n",
       "      <td>0.0</td>\n",
       "      <td>0.0</td>\n",
       "      <td>0.000000e+00</td>\n",
       "      <td>0.000000e+00</td>\n",
       "      <td>0.0</td>\n",
       "    </tr>\n",
       "    <tr>\n",
       "      <th>4</th>\n",
       "      <td>0.300000</td>\n",
       "      <td>0.000000</td>\n",
       "      <td>0.251327</td>\n",
       "      <td>0.000000</td>\n",
       "      <td>-0.234914</td>\n",
       "      <td>0.0</td>\n",
       "      <td>0.0</td>\n",
       "      <td>2.453739</td>\n",
       "      <td>36.250454</td>\n",
       "      <td>0.000000e+00</td>\n",
       "      <td>...</td>\n",
       "      <td>0.000000e+00</td>\n",
       "      <td>0.0</td>\n",
       "      <td>0.0</td>\n",
       "      <td>0.0</td>\n",
       "      <td>0.0</td>\n",
       "      <td>0.0</td>\n",
       "      <td>0.0</td>\n",
       "      <td>0.000000e+00</td>\n",
       "      <td>0.000000e+00</td>\n",
       "      <td>0.0</td>\n",
       "    </tr>\n",
       "    <tr>\n",
       "      <th>...</th>\n",
       "      <td>...</td>\n",
       "      <td>...</td>\n",
       "      <td>...</td>\n",
       "      <td>...</td>\n",
       "      <td>...</td>\n",
       "      <td>...</td>\n",
       "      <td>...</td>\n",
       "      <td>...</td>\n",
       "      <td>...</td>\n",
       "      <td>...</td>\n",
       "      <td>...</td>\n",
       "      <td>...</td>\n",
       "      <td>...</td>\n",
       "      <td>...</td>\n",
       "      <td>...</td>\n",
       "      <td>...</td>\n",
       "      <td>...</td>\n",
       "      <td>...</td>\n",
       "      <td>...</td>\n",
       "      <td>...</td>\n",
       "      <td>...</td>\n",
       "    </tr>\n",
       "    <tr>\n",
       "      <th>64600896</th>\n",
       "      <td>0.000052</td>\n",
       "      <td>1.573296</td>\n",
       "      <td>6.031858</td>\n",
       "      <td>-0.999101</td>\n",
       "      <td>0.000000</td>\n",
       "      <td>0.0</td>\n",
       "      <td>0.0</td>\n",
       "      <td>1.000450</td>\n",
       "      <td>1.001799</td>\n",
       "      <td>1.456307e-07</td>\n",
       "      <td>...</td>\n",
       "      <td>2.624713e-10</td>\n",
       "      <td>0.0</td>\n",
       "      <td>0.0</td>\n",
       "      <td>0.0</td>\n",
       "      <td>-0.0</td>\n",
       "      <td>-0.0</td>\n",
       "      <td>0.0</td>\n",
       "      <td>-8.924000e-08</td>\n",
       "      <td>-3.475668e-07</td>\n",
       "      <td>0.0</td>\n",
       "    </tr>\n",
       "    <tr>\n",
       "      <th>64600897</th>\n",
       "      <td>0.000052</td>\n",
       "      <td>1.573296</td>\n",
       "      <td>6.094690</td>\n",
       "      <td>-0.999101</td>\n",
       "      <td>0.000000</td>\n",
       "      <td>0.0</td>\n",
       "      <td>0.0</td>\n",
       "      <td>1.000450</td>\n",
       "      <td>1.001799</td>\n",
       "      <td>1.112814e-07</td>\n",
       "      <td>...</td>\n",
       "      <td>1.511192e-10</td>\n",
       "      <td>0.0</td>\n",
       "      <td>0.0</td>\n",
       "      <td>0.0</td>\n",
       "      <td>-0.0</td>\n",
       "      <td>-0.0</td>\n",
       "      <td>0.0</td>\n",
       "      <td>-6.724000e-08</td>\n",
       "      <td>-3.524844e-07</td>\n",
       "      <td>0.0</td>\n",
       "    </tr>\n",
       "    <tr>\n",
       "      <th>64600898</th>\n",
       "      <td>0.000052</td>\n",
       "      <td>1.573296</td>\n",
       "      <td>6.157522</td>\n",
       "      <td>-0.999101</td>\n",
       "      <td>0.000000</td>\n",
       "      <td>0.0</td>\n",
       "      <td>0.0</td>\n",
       "      <td>1.000450</td>\n",
       "      <td>1.001799</td>\n",
       "      <td>7.517719e-08</td>\n",
       "      <td>...</td>\n",
       "      <td>0.000000e+00</td>\n",
       "      <td>0.0</td>\n",
       "      <td>0.0</td>\n",
       "      <td>0.0</td>\n",
       "      <td>-0.0</td>\n",
       "      <td>-0.0</td>\n",
       "      <td>0.0</td>\n",
       "      <td>-4.497464e-08</td>\n",
       "      <td>-3.560109e-07</td>\n",
       "      <td>0.0</td>\n",
       "    </tr>\n",
       "    <tr>\n",
       "      <th>64600899</th>\n",
       "      <td>0.000052</td>\n",
       "      <td>1.573296</td>\n",
       "      <td>6.220353</td>\n",
       "      <td>-0.999101</td>\n",
       "      <td>0.000000</td>\n",
       "      <td>0.0</td>\n",
       "      <td>0.0</td>\n",
       "      <td>1.000450</td>\n",
       "      <td>1.001799</td>\n",
       "      <td>3.788735e-08</td>\n",
       "      <td>...</td>\n",
       "      <td>0.000000e+00</td>\n",
       "      <td>0.0</td>\n",
       "      <td>0.0</td>\n",
       "      <td>0.0</td>\n",
       "      <td>-0.0</td>\n",
       "      <td>-0.0</td>\n",
       "      <td>0.0</td>\n",
       "      <td>-2.253178e-08</td>\n",
       "      <td>-3.581324e-07</td>\n",
       "      <td>0.0</td>\n",
       "    </tr>\n",
       "    <tr>\n",
       "      <th>64600900</th>\n",
       "      <td>0.000000</td>\n",
       "      <td>0.000000</td>\n",
       "      <td>0.000000</td>\n",
       "      <td>-1.000000</td>\n",
       "      <td>0.000000</td>\n",
       "      <td>0.0</td>\n",
       "      <td>0.0</td>\n",
       "      <td>1.000000</td>\n",
       "      <td>1.000000</td>\n",
       "      <td>0.000000e+00</td>\n",
       "      <td>...</td>\n",
       "      <td>0.000000e+00</td>\n",
       "      <td>0.0</td>\n",
       "      <td>0.0</td>\n",
       "      <td>0.0</td>\n",
       "      <td>0.0</td>\n",
       "      <td>0.0</td>\n",
       "      <td>0.0</td>\n",
       "      <td>0.000000e+00</td>\n",
       "      <td>0.000000e+00</td>\n",
       "      <td>0.0</td>\n",
       "    </tr>\n",
       "  </tbody>\n",
       "</table>\n",
       "<p>64600901 rows × 27 columns</p>\n",
       "</div>"
      ],
      "text/plain": [
       "                 r     theta       phi     alpha   beta__x  beta__y  beta__z  \\\n",
       "0         0.300000  0.000000  0.000000  0.000000 -0.234914      0.0      0.0   \n",
       "1         0.300000  0.000000  0.062832  0.000000 -0.234914      0.0      0.0   \n",
       "2         0.300000  0.000000  0.125664  0.000000 -0.234914      0.0      0.0   \n",
       "3         0.300000  0.000000  0.188496  0.000000 -0.234914      0.0      0.0   \n",
       "4         0.300000  0.000000  0.251327  0.000000 -0.234914      0.0      0.0   \n",
       "...            ...       ...       ...       ...       ...      ...      ...   \n",
       "64600896  0.000052  1.573296  6.031858 -0.999101  0.000000      0.0      0.0   \n",
       "64600897  0.000052  1.573296  6.094690 -0.999101  0.000000      0.0      0.0   \n",
       "64600898  0.000052  1.573296  6.157522 -0.999101  0.000000      0.0      0.0   \n",
       "64600899  0.000052  1.573296  6.220353 -0.999101  0.000000      0.0      0.0   \n",
       "64600900  0.000000  0.000000  0.000000 -1.000000  0.000000      0.0      0.0   \n",
       "\n",
       "               psi        gxx           gxy  ...           Kyy  Kyz  Kzz  rho  \\\n",
       "0         2.453739  36.250454  0.000000e+00  ...  0.000000e+00  0.0  0.0  0.0   \n",
       "1         2.453739  36.250454  0.000000e+00  ...  0.000000e+00  0.0  0.0  0.0   \n",
       "2         2.453739  36.250454  0.000000e+00  ...  0.000000e+00  0.0  0.0  0.0   \n",
       "3         2.453739  36.250454  0.000000e+00  ...  0.000000e+00  0.0  0.0  0.0   \n",
       "4         2.453739  36.250454  0.000000e+00  ...  0.000000e+00  0.0  0.0  0.0   \n",
       "...            ...        ...           ...  ...           ...  ...  ...  ...   \n",
       "64600896  1.000450   1.001799  1.456307e-07  ...  2.624713e-10  0.0  0.0  0.0   \n",
       "64600897  1.000450   1.001799  1.112814e-07  ...  1.511192e-10  0.0  0.0  0.0   \n",
       "64600898  1.000450   1.001799  7.517719e-08  ...  0.000000e+00  0.0  0.0  0.0   \n",
       "64600899  1.000450   1.001799  3.788735e-08  ...  0.000000e+00  0.0  0.0  0.0   \n",
       "64600900  1.000000   1.000000  0.000000e+00  ...  0.000000e+00  0.0  0.0  0.0   \n",
       "\n",
       "          u__x  u__y  u__z           A_x           A_y  A_z  \n",
       "0          0.0   0.0   0.0  0.000000e+00  0.000000e+00  0.0  \n",
       "1          0.0   0.0   0.0  0.000000e+00  0.000000e+00  0.0  \n",
       "2          0.0   0.0   0.0  0.000000e+00  0.000000e+00  0.0  \n",
       "3          0.0   0.0   0.0  0.000000e+00  0.000000e+00  0.0  \n",
       "4          0.0   0.0   0.0  0.000000e+00  0.000000e+00  0.0  \n",
       "...        ...   ...   ...           ...           ...  ...  \n",
       "64600896  -0.0  -0.0   0.0 -8.924000e-08 -3.475668e-07  0.0  \n",
       "64600897  -0.0  -0.0   0.0 -6.724000e-08 -3.524844e-07  0.0  \n",
       "64600898  -0.0  -0.0   0.0 -4.497464e-08 -3.560109e-07  0.0  \n",
       "64600899  -0.0  -0.0   0.0 -2.253178e-08 -3.581324e-07  0.0  \n",
       "64600900   0.0   0.0   0.0  0.000000e+00  0.000000e+00  0.0  \n",
       "\n",
       "[64600901 rows x 27 columns]"
      ]
     },
     "execution_count": 87,
     "metadata": {},
     "output_type": "execute_result"
    }
   ],
   "source": [
    "df_3d = pd.read_hdf(\"/data/sjammi6/thesisproject/BlackHoleDiskProject/InitialData/routine2/data/3D_data/all_data_routine1.h5\", key=\"df\")\n",
    "df_3d"
   ]
  },
  {
   "cell_type": "code",
   "execution_count": 4,
   "metadata": {},
   "outputs": [],
   "source": [
    "pdata = df_3d[[\"r\", \"theta\", \"phi\"]].values"
   ]
  },
  {
   "cell_type": "code",
   "execution_count": 5,
   "metadata": {},
   "outputs": [
    {
     "data": {
      "text/plain": [
       "numpy.ndarray"
      ]
     },
     "execution_count": 5,
     "metadata": {},
     "output_type": "execute_result"
    }
   ],
   "source": [
    "type(pdata)"
   ]
  },
  {
   "cell_type": "code",
   "execution_count": 8,
   "metadata": {},
   "outputs": [
    {
     "data": {
      "text/plain": [
       "dtype('float64')"
      ]
     },
     "execution_count": 8,
     "metadata": {},
     "output_type": "execute_result"
    }
   ],
   "source": [
    "pdata.dtype"
   ]
  },
  {
   "cell_type": "code",
   "execution_count": 37,
   "metadata": {},
   "outputs": [],
   "source": [
    "\n",
    "def f(x, y, z):\n",
    "    return np.array(\n",
    "        [\n",
    "            np.exp(-x**2) * y * z\n",
    "#            x[0]*x[1]*x[2],\n",
    "#            np.sin(x[0]) + np.cos(x[1]),\n",
    "        ]\n",
    "    )\n",
    "def g(x, y, z):\n",
    "    return np.array(\n",
    "        [\n",
    "#            np.exp(-x[0]**2),\n",
    "            x*y*z\n",
    "#            np.sin(x[0]) + np.cos(x[1]),\n",
    "        ]\n",
    "    )\n",
    "\n",
    "def h(x, y, z):\n",
    "    return np.array(\n",
    "        [\n",
    "#            np.exp(-x[0]**2),\n",
    "#            x[0]*x[1]*x[2],\n",
    "            np.sin(x) + np.cos(y)*z,\n",
    "        ]\n",
    "    )"
   ]
  },
  {
   "cell_type": "code",
   "execution_count": 4,
   "metadata": {},
   "outputs": [],
   "source": [
    "x = np.linspace(0, 100, 101)\n",
    "y = np.linspace(0, 100, 101)\n",
    "z = np.linspace(-100, 100, 101)\n",
    "grid = np.array(np.meshgrid(x, y, z)).T.reshape(-1, 3)"
   ]
  },
  {
   "cell_type": "code",
   "execution_count": 3,
   "metadata": {},
   "outputs": [
    {
     "data": {
      "text/html": [
       "<div>\n",
       "<style scoped>\n",
       "    .dataframe tbody tr th:only-of-type {\n",
       "        vertical-align: middle;\n",
       "    }\n",
       "\n",
       "    .dataframe tbody tr th {\n",
       "        vertical-align: top;\n",
       "    }\n",
       "\n",
       "    .dataframe thead th {\n",
       "        text-align: right;\n",
       "    }\n",
       "</style>\n",
       "<table border=\"1\" class=\"dataframe\">\n",
       "  <thead>\n",
       "    <tr style=\"text-align: right;\">\n",
       "      <th></th>\n",
       "      <th>x</th>\n",
       "      <th>y</th>\n",
       "      <th>z</th>\n",
       "      <th>f</th>\n",
       "      <th>g</th>\n",
       "      <th>h</th>\n",
       "    </tr>\n",
       "  </thead>\n",
       "  <tbody>\n",
       "    <tr>\n",
       "      <th>0</th>\n",
       "      <td>0.0</td>\n",
       "      <td>0.0</td>\n",
       "      <td>-100.0</td>\n",
       "      <td>-0.000000</td>\n",
       "      <td>-0.0</td>\n",
       "      <td>-100.000000</td>\n",
       "    </tr>\n",
       "    <tr>\n",
       "      <th>1</th>\n",
       "      <td>0.0</td>\n",
       "      <td>1.0</td>\n",
       "      <td>-100.0</td>\n",
       "      <td>-84.147098</td>\n",
       "      <td>-0.0</td>\n",
       "      <td>-54.030231</td>\n",
       "    </tr>\n",
       "    <tr>\n",
       "      <th>2</th>\n",
       "      <td>0.0</td>\n",
       "      <td>2.0</td>\n",
       "      <td>-100.0</td>\n",
       "      <td>-90.929743</td>\n",
       "      <td>-0.0</td>\n",
       "      <td>41.614684</td>\n",
       "    </tr>\n",
       "    <tr>\n",
       "      <th>3</th>\n",
       "      <td>0.0</td>\n",
       "      <td>3.0</td>\n",
       "      <td>-100.0</td>\n",
       "      <td>-14.112001</td>\n",
       "      <td>-0.0</td>\n",
       "      <td>98.999250</td>\n",
       "    </tr>\n",
       "    <tr>\n",
       "      <th>4</th>\n",
       "      <td>0.0</td>\n",
       "      <td>4.0</td>\n",
       "      <td>-100.0</td>\n",
       "      <td>75.680250</td>\n",
       "      <td>-0.0</td>\n",
       "      <td>65.364362</td>\n",
       "    </tr>\n",
       "    <tr>\n",
       "      <th>...</th>\n",
       "      <td>...</td>\n",
       "      <td>...</td>\n",
       "      <td>...</td>\n",
       "      <td>...</td>\n",
       "      <td>...</td>\n",
       "      <td>...</td>\n",
       "    </tr>\n",
       "    <tr>\n",
       "      <th>1030296</th>\n",
       "      <td>100.0</td>\n",
       "      <td>96.0</td>\n",
       "      <td>100.0</td>\n",
       "      <td>84.816628</td>\n",
       "      <td>960000.0</td>\n",
       "      <td>-18.549411</td>\n",
       "    </tr>\n",
       "    <tr>\n",
       "      <th>1030297</th>\n",
       "      <td>100.0</td>\n",
       "      <td>97.0</td>\n",
       "      <td>100.0</td>\n",
       "      <td>32.734292</td>\n",
       "      <td>970000.0</td>\n",
       "      <td>-93.021119</td>\n",
       "    </tr>\n",
       "    <tr>\n",
       "      <th>1030298</th>\n",
       "      <td>100.0</td>\n",
       "      <td>98.0</td>\n",
       "      <td>100.0</td>\n",
       "      <td>-49.443801</td>\n",
       "      <td>980000.0</td>\n",
       "      <td>-82.435190</td>\n",
       "    </tr>\n",
       "    <tr>\n",
       "      <th>1030299</th>\n",
       "      <td>100.0</td>\n",
       "      <td>99.0</td>\n",
       "      <td>100.0</td>\n",
       "      <td>-86.163491</td>\n",
       "      <td>990000.0</td>\n",
       "      <td>3.475722</td>\n",
       "    </tr>\n",
       "    <tr>\n",
       "      <th>1030300</th>\n",
       "      <td>100.0</td>\n",
       "      <td>100.0</td>\n",
       "      <td>100.0</td>\n",
       "      <td>-43.664865</td>\n",
       "      <td>1000000.0</td>\n",
       "      <td>85.725522</td>\n",
       "    </tr>\n",
       "  </tbody>\n",
       "</table>\n",
       "<p>1030301 rows × 6 columns</p>\n",
       "</div>"
      ],
      "text/plain": [
       "             x      y      z          f          g           h\n",
       "0          0.0    0.0 -100.0  -0.000000       -0.0 -100.000000\n",
       "1          0.0    1.0 -100.0 -84.147098       -0.0  -54.030231\n",
       "2          0.0    2.0 -100.0 -90.929743       -0.0   41.614684\n",
       "3          0.0    3.0 -100.0 -14.112001       -0.0   98.999250\n",
       "4          0.0    4.0 -100.0  75.680250       -0.0   65.364362\n",
       "...        ...    ...    ...        ...        ...         ...\n",
       "1030296  100.0   96.0  100.0  84.816628   960000.0  -18.549411\n",
       "1030297  100.0   97.0  100.0  32.734292   970000.0  -93.021119\n",
       "1030298  100.0   98.0  100.0 -49.443801   980000.0  -82.435190\n",
       "1030299  100.0   99.0  100.0 -86.163491   990000.0    3.475722\n",
       "1030300  100.0  100.0  100.0 -43.664865  1000000.0   85.725522\n",
       "\n",
       "[1030301 rows x 6 columns]"
      ]
     },
     "execution_count": 3,
     "metadata": {},
     "output_type": "execute_result"
    }
   ],
   "source": [
    "df_grid = pd.DataFrame(grid, columns=[\"x\", \"y\", \"z\"])\n",
    "df_grid[\"f\"] = np.cos(df_grid.x) * np.sin(df_grid.y) * df_grid.z\n",
    "df_grid[\"g\"] = df_grid.x * df_grid.y * df_grid.z\n",
    "df_grid[\"h\"] = np.sin(df_grid.x) + np.cos(df_grid.y) * df_grid.z\n",
    "df_grid"
   ]
  },
  {
   "cell_type": "code",
   "execution_count": 5,
   "metadata": {},
   "outputs": [],
   "source": [
    "tdata = KDTree(grid)"
   ]
  },
  {
   "cell_type": "code",
   "execution_count": 29,
   "metadata": {},
   "outputs": [
    {
     "data": {
      "text/plain": [
       "array([0.        , 1.        , 1.        , 1.        , 1.        ,\n",
       "       1.41421356, 1.41421356, 1.41421356])"
      ]
     },
     "execution_count": 29,
     "metadata": {},
     "output_type": "execute_result"
    }
   ],
   "source": [
    "dis[0]"
   ]
  },
  {
   "cell_type": "code",
   "execution_count": 6,
   "metadata": {},
   "outputs": [],
   "source": [
    "dis, ind = tdata.query([[8, 12, 14], [2, 4, 19]], k=8)"
   ]
  },
  {
   "cell_type": "code",
   "execution_count": 46,
   "metadata": {},
   "outputs": [
    {
     "data": {
      "text/html": [
       "<div>\n",
       "<style scoped>\n",
       "    .dataframe tbody tr th:only-of-type {\n",
       "        vertical-align: middle;\n",
       "    }\n",
       "\n",
       "    .dataframe tbody tr th {\n",
       "        vertical-align: top;\n",
       "    }\n",
       "\n",
       "    .dataframe thead th {\n",
       "        text-align: right;\n",
       "    }\n",
       "</style>\n",
       "<table border=\"1\" class=\"dataframe\">\n",
       "  <thead>\n",
       "    <tr style=\"text-align: right;\">\n",
       "      <th></th>\n",
       "      <th>x</th>\n",
       "      <th>y</th>\n",
       "      <th>z</th>\n",
       "      <th>f</th>\n",
       "      <th>g</th>\n",
       "      <th>h</th>\n",
       "    </tr>\n",
       "  </thead>\n",
       "  <tbody>\n",
       "    <tr>\n",
       "      <th>582277</th>\n",
       "      <td>8.0</td>\n",
       "      <td>12.0</td>\n",
       "      <td>14.0</td>\n",
       "      <td>1.092999</td>\n",
       "      <td>1344.0</td>\n",
       "      <td>12.803314</td>\n",
       "    </tr>\n",
       "    <tr>\n",
       "      <th>582276</th>\n",
       "      <td>8.0</td>\n",
       "      <td>11.0</td>\n",
       "      <td>14.0</td>\n",
       "      <td>2.036981</td>\n",
       "      <td>1232.0</td>\n",
       "      <td>1.051318</td>\n",
       "    </tr>\n",
       "    <tr>\n",
       "      <th>582378</th>\n",
       "      <td>9.0</td>\n",
       "      <td>12.0</td>\n",
       "      <td>14.0</td>\n",
       "      <td>6.844430</td>\n",
       "      <td>1512.0</td>\n",
       "      <td>12.226074</td>\n",
       "    </tr>\n",
       "    <tr>\n",
       "      <th>582176</th>\n",
       "      <td>7.0</td>\n",
       "      <td>12.0</td>\n",
       "      <td>14.0</td>\n",
       "      <td>-5.663329</td>\n",
       "      <td>1176.0</td>\n",
       "      <td>12.470942</td>\n",
       "    </tr>\n",
       "    <tr>\n",
       "      <th>582278</th>\n",
       "      <td>8.0</td>\n",
       "      <td>13.0</td>\n",
       "      <td>14.0</td>\n",
       "      <td>-0.855880</td>\n",
       "      <td>1456.0</td>\n",
       "      <td>13.693613</td>\n",
       "    </tr>\n",
       "    <tr>\n",
       "      <th>582177</th>\n",
       "      <td>7.0</td>\n",
       "      <td>13.0</td>\n",
       "      <td>14.0</td>\n",
       "      <td>4.434708</td>\n",
       "      <td>1274.0</td>\n",
       "      <td>13.361242</td>\n",
       "    </tr>\n",
       "    <tr>\n",
       "      <th>582175</th>\n",
       "      <td>7.0</td>\n",
       "      <td>11.0</td>\n",
       "      <td>14.0</td>\n",
       "      <td>-10.554528</td>\n",
       "      <td>1078.0</td>\n",
       "      <td>0.718946</td>\n",
       "    </tr>\n",
       "    <tr>\n",
       "      <th>582377</th>\n",
       "      <td>9.0</td>\n",
       "      <td>11.0</td>\n",
       "      <td>14.0</td>\n",
       "      <td>12.755699</td>\n",
       "      <td>1386.0</td>\n",
       "      <td>0.474078</td>\n",
       "    </tr>\n",
       "  </tbody>\n",
       "</table>\n",
       "</div>"
      ],
      "text/plain": [
       "          x     y     z          f       g          h\n",
       "582277  8.0  12.0  14.0   1.092999  1344.0  12.803314\n",
       "582276  8.0  11.0  14.0   2.036981  1232.0   1.051318\n",
       "582378  9.0  12.0  14.0   6.844430  1512.0  12.226074\n",
       "582176  7.0  12.0  14.0  -5.663329  1176.0  12.470942\n",
       "582278  8.0  13.0  14.0  -0.855880  1456.0  13.693613\n",
       "582177  7.0  13.0  14.0   4.434708  1274.0  13.361242\n",
       "582175  7.0  11.0  14.0 -10.554528  1078.0   0.718946\n",
       "582377  9.0  11.0  14.0  12.755699  1386.0   0.474078"
      ]
     },
     "execution_count": 46,
     "metadata": {},
     "output_type": "execute_result"
    }
   ],
   "source": [
    "df_grid.iloc[ind[0]]"
   ]
  },
  {
   "cell_type": "code",
   "execution_count": 26,
   "metadata": {},
   "outputs": [
    {
     "data": {
      "text/plain": [
       "[array([ 8., 12., 14.]),\n",
       " array([ 8., 11., 14.]),\n",
       " array([ 9., 12., 14.]),\n",
       " array([ 7., 12., 14.]),\n",
       " array([ 8., 13., 14.]),\n",
       " array([ 7., 13., 14.]),\n",
       " array([ 7., 11., 14.]),\n",
       " array([ 9., 11., 14.])]"
      ]
     },
     "execution_count": 26,
     "metadata": {},
     "output_type": "execute_result"
    }
   ],
   "source": [
    "nn = [grid[i] for i in ind[0]]\n",
    "nn"
   ]
  },
  {
   "cell_type": "code",
   "execution_count": null,
   "metadata": {},
   "outputs": [],
   "source": []
  },
  {
   "cell_type": "code",
   "execution_count": 50,
   "metadata": {},
   "outputs": [],
   "source": [
    "def process_line(line):\n",
    "    parts = line.split()[1:]  # Ignore the first column\n",
    "    new_grid = list(map(np.float64, parts))\n",
    "    output_file = f\"CTS_bin-proc{parts[-1]}.d\"     \n",
    "    return new_grid, output_file\n"
   ]
  },
  {
   "cell_type": "code",
   "execution_count": 51,
   "metadata": {},
   "outputs": [],
   "source": [
    "grids_filepath =  \"/data/sjammi6/thesisproject/BlackHoleDiskProject/InitialData/routine2/grids_bh_disk_patrik\"\n",
    "linedata = []\n",
    "with open(grids_filepath, \"r\") as f:\n",
    "    lines = f.readlines()\n",
    "    linedata = [process_line(line) for line in lines]"
   ]
  },
  {
   "cell_type": "code",
   "execution_count": 52,
   "metadata": {},
   "outputs": [
    {
     "data": {
      "text/plain": [
       "([np.float64(198.401),\n",
       "  np.float64(64.00000000000004),\n",
       "  np.float64(396.8),\n",
       "  np.float64(6.4),\n",
       "  np.float64(6.4),\n",
       "  np.float64(6.4),\n",
       "  np.float64(41.0),\n",
       "  np.float64(37.0),\n",
       "  np.float64(39.0),\n",
       "  np.float64(-979427380.0)],\n",
       " 'CTS_bin-proc-979427380.d')"
      ]
     },
     "execution_count": 52,
     "metadata": {},
     "output_type": "execute_result"
    }
   ],
   "source": [
    "linedata[0]"
   ]
  },
  {
   "cell_type": "code",
   "execution_count": 20,
   "metadata": {},
   "outputs": [
    {
     "data": {
      "text/plain": [
       "array([0.        , 1.        , 1.        , 1.        , 1.        ,\n",
       "       1.41421356, 1.41421356, 1.41421356])"
      ]
     },
     "execution_count": 20,
     "metadata": {},
     "output_type": "execute_result"
    }
   ],
   "source": [
    "dis[0]"
   ]
  },
  {
   "cell_type": "code",
   "execution_count": 15,
   "metadata": {},
   "outputs": [
    {
     "data": {
      "text/plain": [
       "array([  -5.66332946, 1176.        ,   12.47094202])"
      ]
     },
     "execution_count": 15,
     "metadata": {},
     "output_type": "execute_result"
    }
   ],
   "source": [
    "np.array(df_grid.iloc[ind[0][3]].values[3:])"
   ]
  },
  {
   "cell_type": "code",
   "execution_count": 17,
   "metadata": {},
   "outputs": [],
   "source": [
    "t = df_grid.iloc[ind[0][3]]\n",
    "p = [np.float64(8), np.float64(12), np.float64(14)]"
   ]
  },
  {
   "cell_type": "code",
   "execution_count": 18,
   "metadata": {},
   "outputs": [
    {
     "data": {
      "text/plain": [
       "array([   8.        ,   12.        ,   14.        ,   -5.66332946,\n",
       "       1176.        ,   12.47094202])"
      ]
     },
     "execution_count": 18,
     "metadata": {},
     "output_type": "execute_result"
    }
   ],
   "source": [
    "np.hstack([p, t.values[3:]])"
   ]
  },
  {
   "cell_type": "code",
   "execution_count": 52,
   "metadata": {},
   "outputs": [
    {
     "name": "stdout",
     "output_type": "stream",
     "text": [
      "(8, 3)\n",
      "(8, 1)\n",
      "[[ 0.00000000e+00  0.00000000e+00  0.00000000e+00]\n",
      " [ 2.03698052e+00  1.23200000e+03  1.05131802e+00]\n",
      " [ 6.84442953e+00  1.51200000e+03  1.22260739e+01]\n",
      " [-5.66332946e+00  1.17600000e+03  1.24709420e+01]\n",
      " [-8.55880453e-01  1.45600000e+03  1.36936132e+01]\n",
      " [ 6.27162458e+00  1.80170808e+03  1.88956490e+01]\n",
      " [-1.49263569e+01  1.52452222e+03  1.01674371e+00]\n",
      " [ 1.80392822e+01  1.96010000e+03  6.70447901e-01]]\n",
      "(8, 3)\n"
     ]
    }
   ],
   "source": [
    "weights = dis[0].reshape((-1, 1))\n",
    "scalarvals = df_grid.iloc[ind[0]].values\n",
    "print(scalarvals[:, 3:].shape)\n",
    "print(weights.shape)\n",
    "r = weights * scalarvals[:, 3:]\n",
    "print(r)\n",
    "print(r.shape)"
   ]
  },
  {
   "cell_type": "code",
   "execution_count": 44,
   "metadata": {},
   "outputs": [
    {
     "data": {
      "text/plain": [
       "array([[ 1.09299929e+00,  1.34400000e+03,  1.28033137e+01],\n",
       "       [ 2.03698052e+00,  1.23200000e+03,  1.05131802e+00],\n",
       "       [ 6.84442953e+00,  1.51200000e+03,  1.22260739e+01],\n",
       "       [-5.66332946e+00,  1.17600000e+03,  1.24709420e+01],\n",
       "       [-8.55880453e-01,  1.45600000e+03,  1.36936132e+01],\n",
       "       [ 4.43470827e+00,  1.27400000e+03,  1.33612415e+01],\n",
       "       [-1.05545282e+01,  1.07800000e+03,  7.18946371e-01],\n",
       "       [ 1.27556987e+01,  1.38600000e+03,  4.74078257e-01]])"
      ]
     },
     "execution_count": 44,
     "metadata": {},
     "output_type": "execute_result"
    }
   ],
   "source": [
    "scalarvals[:, 3:]"
   ]
  },
  {
   "cell_type": "code",
   "execution_count": 33,
   "metadata": {},
   "outputs": [
    {
     "data": {
      "text/plain": [
       "array([[0.        , 1.        , 1.        , 1.        , 1.        ,\n",
       "        1.41421356, 1.41421356, 1.41421356]])"
      ]
     },
     "execution_count": 33,
     "metadata": {},
     "output_type": "execute_result"
    }
   ],
   "source": [
    "weights"
   ]
  },
  {
   "cell_type": "code",
   "execution_count": 34,
   "metadata": {},
   "outputs": [
    {
     "data": {
      "text/plain": [
       "array([[ 8.00000000e+00,  1.20000000e+01,  1.40000000e+01,\n",
       "         1.09299929e+00,  1.34400000e+03,  1.28033137e+01],\n",
       "       [ 8.00000000e+00,  1.10000000e+01,  1.40000000e+01,\n",
       "         2.03698052e+00,  1.23200000e+03,  1.05131802e+00],\n",
       "       [ 9.00000000e+00,  1.20000000e+01,  1.40000000e+01,\n",
       "         6.84442953e+00,  1.51200000e+03,  1.22260739e+01],\n",
       "       [ 7.00000000e+00,  1.20000000e+01,  1.40000000e+01,\n",
       "        -5.66332946e+00,  1.17600000e+03,  1.24709420e+01],\n",
       "       [ 8.00000000e+00,  1.30000000e+01,  1.40000000e+01,\n",
       "        -8.55880453e-01,  1.45600000e+03,  1.36936132e+01],\n",
       "       [ 7.00000000e+00,  1.30000000e+01,  1.40000000e+01,\n",
       "         4.43470827e+00,  1.27400000e+03,  1.33612415e+01],\n",
       "       [ 7.00000000e+00,  1.10000000e+01,  1.40000000e+01,\n",
       "        -1.05545282e+01,  1.07800000e+03,  7.18946371e-01],\n",
       "       [ 9.00000000e+00,  1.10000000e+01,  1.40000000e+01,\n",
       "         1.27556987e+01,  1.38600000e+03,  4.74078257e-01]])"
      ]
     },
     "execution_count": 34,
     "metadata": {},
     "output_type": "execute_result"
    }
   ],
   "source": [
    "scalarvals"
   ]
  },
  {
   "cell_type": "code",
   "execution_count": 53,
   "metadata": {},
   "outputs": [],
   "source": [
    "r = np.sum(r, axis=0)"
   ]
  },
  {
   "cell_type": "code",
   "execution_count": 57,
   "metadata": {},
   "outputs": [
    {
     "data": {
      "text/plain": [
       "np.float64(8.242640687119286)"
      ]
     },
     "execution_count": 57,
     "metadata": {},
     "output_type": "execute_result"
    }
   ],
   "source": [
    "np.sum(weights)"
   ]
  },
  {
   "cell_type": "code",
   "execution_count": 56,
   "metadata": {},
   "outputs": [
    {
     "data": {
      "text/plain": [
       "array([[0.        ],\n",
       "       [1.        ],\n",
       "       [1.        ],\n",
       "       [1.        ],\n",
       "       [1.        ],\n",
       "       [1.41421356],\n",
       "       [1.41421356],\n",
       "       [1.41421356]])"
      ]
     },
     "execution_count": 56,
     "metadata": {},
     "output_type": "execute_result"
    }
   ],
   "source": [
    "weights"
   ]
  },
  {
   "cell_type": "code",
   "execution_count": 58,
   "metadata": {},
   "outputs": [
    {
     "data": {
      "text/plain": [
       "array([   1.42511974, 1293.55757468,    7.28222787])"
      ]
     },
     "execution_count": 58,
     "metadata": {},
     "output_type": "execute_result"
    }
   ],
   "source": [
    "r/np.sum(weights)"
   ]
  },
  {
   "cell_type": "code",
   "execution_count": 55,
   "metadata": {},
   "outputs": [
    {
     "data": {
      "text/plain": [
       "np.float64(8.242640687119286)"
      ]
     },
     "execution_count": 55,
     "metadata": {},
     "output_type": "execute_result"
    }
   ],
   "source": [
    "np.sum(weights)"
   ]
  },
  {
   "cell_type": "code",
   "execution_count": 103,
   "metadata": {},
   "outputs": [],
   "source": [
    "tmpx = np.arange(12, 22, 1)\n",
    "tmpy = np.arange(32, 44, 1)\n",
    "tmpz = np.arange(54, 82, 1)\n",
    "tmp_pdata = np.array(np.meshgrid(tmpx, tmpy, tmpz)).T.reshape(-1, 3)"
   ]
  },
  {
   "cell_type": "code",
   "execution_count": 105,
   "metadata": {},
   "outputs": [
    {
     "data": {
      "text/plain": [
       "array([[12, 32, 54],\n",
       "       [12, 33, 54],\n",
       "       [12, 34, 54],\n",
       "       ...,\n",
       "       [21, 41, 81],\n",
       "       [21, 42, 81],\n",
       "       [21, 43, 81]])"
      ]
     },
     "execution_count": 105,
     "metadata": {},
     "output_type": "execute_result"
    }
   ],
   "source": [
    "tmp_pdata"
   ]
  },
  {
   "cell_type": "code",
   "execution_count": 108,
   "metadata": {},
   "outputs": [],
   "source": [
    "dMat, iMat = tdata.query(tmp_pdata, k=8, workers=-1)"
   ]
  },
  {
   "cell_type": "code",
   "execution_count": 71,
   "metadata": {},
   "outputs": [
    {
     "name": "stdout",
     "output_type": "stream",
     "text": [
      "(4, 8)\n",
      "(4, 8)\n",
      "(4, 3)\n"
     ]
    }
   ],
   "source": [
    "print(dMat.shape)\n",
    "print(iMat.shape)\n",
    "print(tmp_pdata.shape)"
   ]
  },
  {
   "cell_type": "code",
   "execution_count": 75,
   "metadata": {},
   "outputs": [
    {
     "data": {
      "text/plain": [
       "['x', 'y', 'z', 'f', 'g', 'h']"
      ]
     },
     "execution_count": 75,
     "metadata": {},
     "output_type": "execute_result"
    }
   ],
   "source": [
    "cols = list(df_grid.columns)\n",
    "cols"
   ]
  },
  {
   "cell_type": "code",
   "execution_count": 127,
   "metadata": {},
   "outputs": [
    {
     "data": {
      "text/plain": [
       "array([[ 1.20000000e+01,  3.20000000e+01,  5.40000000e+01,\n",
       "         2.51274737e+01,  2.07360000e+04,  4.45114885e+01],\n",
       "       [ 1.20000000e+01,  3.30000000e+01,  5.40000000e+01,\n",
       "         4.55640974e+01,  2.13840000e+04, -1.25351727e+00],\n",
       "       [ 1.20000000e+01,  3.40000000e+01,  5.40000000e+01,\n",
       "         2.41093000e+01,  2.20320000e+04, -4.63593678e+01],\n",
       "       [ 1.20000000e+01,  3.50000000e+01,  5.40000000e+01,\n",
       "        -1.95114766e+01,  2.26800000e+04, -4.93359520e+01],\n",
       "       [ 1.20000000e+01,  3.60000000e+01,  5.40000000e+01,\n",
       "        -4.51934916e+01,  2.33280000e+04, -7.44661216e+00]])"
      ]
     },
     "execution_count": 127,
     "metadata": {},
     "output_type": "execute_result"
    }
   ],
   "source": [
    "df_grid.iloc[iMat[:, 0][:5]].values"
   ]
  },
  {
   "cell_type": "code",
   "execution_count": 128,
   "metadata": {},
   "outputs": [
    {
     "name": "stdout",
     "output_type": "stream",
     "text": [
      "3360\n",
      "6\n"
     ]
    }
   ],
   "source": [
    "print(tmp_pdata.shape[0])\n",
    "print(df_grid.shape[1])\n",
    "#resMat = np.zeros((tmp_pdata.shape[0], df_grid.shape[1]))\n",
    "#resMat.shape\n",
    "resMat = np.where(dMat[:, 0][:, np.newaxis] == 0, df_grid.iloc[iMat[:, 0]].values, np.zeros((len(dMat),6)))\n"
   ]
  },
  {
   "cell_type": "code",
   "execution_count": 129,
   "metadata": {},
   "outputs": [
    {
     "data": {
      "text/plain": [
       "array([[ 1.20000000e+01,  3.20000000e+01,  5.40000000e+01,\n",
       "         2.51274737e+01,  2.07360000e+04,  4.45114885e+01],\n",
       "       [ 1.20000000e+01,  3.30000000e+01,  5.40000000e+01,\n",
       "         4.55640974e+01,  2.13840000e+04, -1.25351727e+00],\n",
       "       [ 1.20000000e+01,  3.40000000e+01,  5.40000000e+01,\n",
       "         2.41093000e+01,  2.20320000e+04, -4.63593678e+01],\n",
       "       ...,\n",
       "       [ 0.00000000e+00,  0.00000000e+00,  0.00000000e+00,\n",
       "         0.00000000e+00,  0.00000000e+00,  0.00000000e+00],\n",
       "       [ 0.00000000e+00,  0.00000000e+00,  0.00000000e+00,\n",
       "         0.00000000e+00,  0.00000000e+00,  0.00000000e+00],\n",
       "       [ 0.00000000e+00,  0.00000000e+00,  0.00000000e+00,\n",
       "         0.00000000e+00,  0.00000000e+00,  0.00000000e+00]])"
      ]
     },
     "execution_count": 129,
     "metadata": {},
     "output_type": "execute_result"
    }
   ],
   "source": [
    "resMat"
   ]
  },
  {
   "cell_type": "code",
   "execution_count": 76,
   "metadata": {},
   "outputs": [],
   "source": [
    "def interpolate_grid(p, dist, ind, df):\n",
    "    if np.any(dist == 0):\n",
    "        t = df.iloc[ind[np.argmin(dist)]]\n",
    "        return np.hstack([p, t.values[3:]])\n",
    "    w = 1/dist\n",
    "    w = w.reshape((-1, 1))\n",
    "    r = np.sum(w * df.iloc[ind].values[:, 3:], axis=0) / np.sum(w)\n",
    "    return np.hstack([p, r])"
   ]
  },
  {
   "cell_type": "code",
   "execution_count": 109,
   "metadata": {},
   "outputs": [],
   "source": [
    "interpolated_data = np.array([interpolate_grid(p, d, i, df_grid) for p, d, i in zip(tmp_pdata, dMat, iMat)])"
   ]
  },
  {
   "cell_type": "code",
   "execution_count": 110,
   "metadata": {},
   "outputs": [
    {
     "data": {
      "text/plain": [
       "array([[12., 32., 54.],\n",
       "       [12., 33., 54.],\n",
       "       [12., 34., 54.],\n",
       "       ...,\n",
       "       [21., 41., 81.],\n",
       "       [21., 42., 81.],\n",
       "       [21., 43., 81.]])"
      ]
     },
     "execution_count": 110,
     "metadata": {},
     "output_type": "execute_result"
    }
   ],
   "source": [
    "interpolated_data[:, :3]"
   ]
  },
  {
   "cell_type": "code",
   "execution_count": 91,
   "metadata": {},
   "outputs": [],
   "source": [
    "cols = [\"x\", \"y\", \"z\", \"f\", \"g\", \"h\"]"
   ]
  },
  {
   "cell_type": "code",
   "execution_count": 95,
   "metadata": {},
   "outputs": [],
   "source": [
    "df = pd.DataFrame(columns=cols)"
   ]
  },
  {
   "cell_type": "code",
   "execution_count": 96,
   "metadata": {},
   "outputs": [],
   "source": [
    "tmp_df = pd.DataFrame(interpolated_data, columns=cols)"
   ]
  },
  {
   "cell_type": "code",
   "execution_count": 94,
   "metadata": {},
   "outputs": [
    {
     "name": "stderr",
     "output_type": "stream",
     "text": [
      "/tmp/ipykernel_1321288/1314517867.py:1: FutureWarning: The behavior of DataFrame concatenation with empty or all-NA entries is deprecated. In a future version, this will no longer exclude empty or all-NA columns when determining the result dtypes. To retain the old behavior, exclude the relevant entries before the concat operation.\n",
      "  df = pd.concat([df, tmp_df], ignore_index=True)\n"
     ]
    }
   ],
   "source": [
    "df = pd.concat([df, tmp_df], ignore_index=True)"
   ]
  },
  {
   "cell_type": "code",
   "execution_count": 99,
   "metadata": {},
   "outputs": [],
   "source": [
    "df = pd.concat([df, tmp_df], axis=0, ignore_index=True)\n"
   ]
  },
  {
   "cell_type": "code",
   "execution_count": 100,
   "metadata": {},
   "outputs": [
    {
     "data": {
      "text/html": [
       "<div>\n",
       "<style scoped>\n",
       "    .dataframe tbody tr th:only-of-type {\n",
       "        vertical-align: middle;\n",
       "    }\n",
       "\n",
       "    .dataframe tbody tr th {\n",
       "        vertical-align: top;\n",
       "    }\n",
       "\n",
       "    .dataframe thead th {\n",
       "        text-align: right;\n",
       "    }\n",
       "</style>\n",
       "<table border=\"1\" class=\"dataframe\">\n",
       "  <thead>\n",
       "    <tr style=\"text-align: right;\">\n",
       "      <th></th>\n",
       "      <th>x</th>\n",
       "      <th>y</th>\n",
       "      <th>z</th>\n",
       "      <th>f</th>\n",
       "      <th>g</th>\n",
       "      <th>h</th>\n",
       "    </tr>\n",
       "  </thead>\n",
       "  <tbody>\n",
       "    <tr>\n",
       "      <th>0</th>\n",
       "      <td>12.0</td>\n",
       "      <td>32.0</td>\n",
       "      <td>54.0</td>\n",
       "      <td>25.127474</td>\n",
       "      <td>20736.0</td>\n",
       "      <td>44.511489</td>\n",
       "    </tr>\n",
       "    <tr>\n",
       "      <th>1</th>\n",
       "      <td>20.0</td>\n",
       "      <td>32.0</td>\n",
       "      <td>54.0</td>\n",
       "      <td>12.151476</td>\n",
       "      <td>34560.0</td>\n",
       "      <td>45.961007</td>\n",
       "    </tr>\n",
       "    <tr>\n",
       "      <th>2</th>\n",
       "      <td>12.0</td>\n",
       "      <td>32.0</td>\n",
       "      <td>68.0</td>\n",
       "      <td>31.642004</td>\n",
       "      <td>26112.0</td>\n",
       "      <td>56.190616</td>\n",
       "    </tr>\n",
       "    <tr>\n",
       "      <th>3</th>\n",
       "      <td>20.0</td>\n",
       "      <td>32.0</td>\n",
       "      <td>68.0</td>\n",
       "      <td>15.301859</td>\n",
       "      <td>43520.0</td>\n",
       "      <td>57.640134</td>\n",
       "    </tr>\n",
       "    <tr>\n",
       "      <th>4</th>\n",
       "      <td>12.0</td>\n",
       "      <td>32.0</td>\n",
       "      <td>54.0</td>\n",
       "      <td>25.127474</td>\n",
       "      <td>20736.0</td>\n",
       "      <td>44.511489</td>\n",
       "    </tr>\n",
       "    <tr>\n",
       "      <th>5</th>\n",
       "      <td>20.0</td>\n",
       "      <td>32.0</td>\n",
       "      <td>54.0</td>\n",
       "      <td>12.151476</td>\n",
       "      <td>34560.0</td>\n",
       "      <td>45.961007</td>\n",
       "    </tr>\n",
       "    <tr>\n",
       "      <th>6</th>\n",
       "      <td>12.0</td>\n",
       "      <td>32.0</td>\n",
       "      <td>68.0</td>\n",
       "      <td>31.642004</td>\n",
       "      <td>26112.0</td>\n",
       "      <td>56.190616</td>\n",
       "    </tr>\n",
       "    <tr>\n",
       "      <th>7</th>\n",
       "      <td>20.0</td>\n",
       "      <td>32.0</td>\n",
       "      <td>68.0</td>\n",
       "      <td>15.301859</td>\n",
       "      <td>43520.0</td>\n",
       "      <td>57.640134</td>\n",
       "    </tr>\n",
       "  </tbody>\n",
       "</table>\n",
       "</div>"
      ],
      "text/plain": [
       "      x     y     z          f        g          h\n",
       "0  12.0  32.0  54.0  25.127474  20736.0  44.511489\n",
       "1  20.0  32.0  54.0  12.151476  34560.0  45.961007\n",
       "2  12.0  32.0  68.0  31.642004  26112.0  56.190616\n",
       "3  20.0  32.0  68.0  15.301859  43520.0  57.640134\n",
       "4  12.0  32.0  54.0  25.127474  20736.0  44.511489\n",
       "5  20.0  32.0  54.0  12.151476  34560.0  45.961007\n",
       "6  12.0  32.0  68.0  31.642004  26112.0  56.190616\n",
       "7  20.0  32.0  68.0  15.301859  43520.0  57.640134"
      ]
     },
     "execution_count": 100,
     "metadata": {},
     "output_type": "execute_result"
    }
   ],
   "source": [
    "df"
   ]
  },
  {
   "cell_type": "code",
   "execution_count": 130,
   "metadata": {},
   "outputs": [
    {
     "data": {
      "text/plain": [
       "array([[ 1.20000000e+01,  3.20000000e+01,  5.40000000e+01,\n",
       "         2.51274737e+01,  2.07360000e+04,  4.45114885e+01],\n",
       "       [ 1.20000000e+01,  3.30000000e+01,  5.40000000e+01,\n",
       "         4.55640974e+01,  2.13840000e+04, -1.25351727e+00],\n",
       "       [ 1.20000000e+01,  3.40000000e+01,  5.40000000e+01,\n",
       "         2.41093000e+01,  2.20320000e+04, -4.63593678e+01],\n",
       "       ...,\n",
       "       [ 0.00000000e+00,  0.00000000e+00,  0.00000000e+00,\n",
       "         0.00000000e+00,  0.00000000e+00,  0.00000000e+00],\n",
       "       [ 0.00000000e+00,  0.00000000e+00,  0.00000000e+00,\n",
       "         0.00000000e+00,  0.00000000e+00,  0.00000000e+00],\n",
       "       [ 0.00000000e+00,  0.00000000e+00,  0.00000000e+00,\n",
       "         0.00000000e+00,  0.00000000e+00,  0.00000000e+00]])"
      ]
     },
     "execution_count": 130,
     "metadata": {},
     "output_type": "execute_result"
    }
   ],
   "source": [
    "resMat"
   ]
  },
  {
   "cell_type": "code",
   "execution_count": 136,
   "metadata": {},
   "outputs": [],
   "source": [
    "nonzeroresMax = np.all(resMat != 0, axis=1)\n",
    "resMax_nonzero = resMat[nonzeroresMax]\n"
   ]
  },
  {
   "cell_type": "code",
   "execution_count": 141,
   "metadata": {},
   "outputs": [],
   "source": [
    "newdMat = dMat[~nonzeroresMax]\n",
    "wMat = 1/newdMat\n",
    "newiMat = iMat[~nonzeroresMax]\n",
    "new_pdata = tmp_pdata[~nonzeroresMax]\n",
    "for i in range(len(newdMat)):\n",
    "    r = np.sum(wMat[i].reshape((-1, 1)) * df_grid.iloc[newiMat[i]].values[:, 3:], axis=0) / np.sum(wMat[i])\n",
    "    resMax_nonzero = np.vstack([resMax_nonzero, np.hstack([new_pdata[i], r])])\n"
   ]
  },
  {
   "cell_type": "code",
   "execution_count": 138,
   "metadata": {},
   "outputs": [
    {
     "data": {
      "text/plain": [
       "array([[ 1.,  2.,  3.,  4.,  5.],\n",
       "       [ 6.,  7.,  8.,  9., 10.],\n",
       "       [11., 12., 13., 14., 15.],\n",
       "       [16., 17., 18., 19., 20.],\n",
       "       [21., 22., 23., 24., 25.]])"
      ]
     },
     "execution_count": 138,
     "metadata": {},
     "output_type": "execute_result"
    }
   ],
   "source": [
    "rahh = np.linspace(1, 25, 25).reshape((5,5))\n",
    "rahh"
   ]
  },
  {
   "cell_type": "code",
   "execution_count": 139,
   "metadata": {},
   "outputs": [],
   "source": [
    "rahh = 1/rahh"
   ]
  },
  {
   "cell_type": "code",
   "execution_count": 140,
   "metadata": {},
   "outputs": [
    {
     "data": {
      "text/plain": [
       "array([[1.        , 0.5       , 0.33333333, 0.25      , 0.2       ],\n",
       "       [0.16666667, 0.14285714, 0.125     , 0.11111111, 0.1       ],\n",
       "       [0.09090909, 0.08333333, 0.07692308, 0.07142857, 0.06666667],\n",
       "       [0.0625    , 0.05882353, 0.05555556, 0.05263158, 0.05      ],\n",
       "       [0.04761905, 0.04545455, 0.04347826, 0.04166667, 0.04      ]])"
      ]
     },
     "execution_count": 140,
     "metadata": {},
     "output_type": "execute_result"
    }
   ],
   "source": [
    "d = "
   ]
  },
  {
   "cell_type": "code",
   "execution_count": 142,
   "metadata": {},
   "outputs": [
    {
     "data": {
      "text/plain": [
       "array([[1.        ],\n",
       "       [0.5       ],\n",
       "       [0.33333333],\n",
       "       [0.25      ],\n",
       "       [0.2       ],\n",
       "       [0.16666667],\n",
       "       [0.14285714],\n",
       "       [0.125     ],\n",
       "       [0.11111111],\n",
       "       [0.1       ],\n",
       "       [0.09090909],\n",
       "       [0.08333333],\n",
       "       [0.07692308],\n",
       "       [0.07142857],\n",
       "       [0.06666667],\n",
       "       [0.0625    ],\n",
       "       [0.05882353],\n",
       "       [0.05555556],\n",
       "       [0.05263158],\n",
       "       [0.05      ],\n",
       "       [0.04761905],\n",
       "       [0.04545455],\n",
       "       [0.04347826],\n",
       "       [0.04166667],\n",
       "       [0.04      ]])"
      ]
     },
     "execution_count": 142,
     "metadata": {},
     "output_type": "execute_result"
    }
   ],
   "source": [
    "rahh.reshape(-1, 1)"
   ]
  },
  {
   "cell_type": "code",
   "execution_count": 147,
   "metadata": {},
   "outputs": [
    {
     "data": {
      "text/plain": [
       "array([[1.        , 2.        , 3.        , 4.        , 5.        ],\n",
       "       [0.5       , 1.        , 1.5       , 2.        , 2.5       ],\n",
       "       [0.33333333, 0.66666667, 1.        , 1.33333333, 1.66666667],\n",
       "       [0.25      , 0.5       , 0.75      , 1.        , 1.25      ],\n",
       "       [0.2       , 0.4       , 0.6       , 0.8       , 1.        ]])"
      ]
     },
     "execution_count": 147,
     "metadata": {},
     "output_type": "execute_result"
    }
   ],
   "source": [
    "rahh[0].reshape((-1, 1)) * np.arange(1, 6)"
   ]
  },
  {
   "cell_type": "code",
   "execution_count": 148,
   "metadata": {},
   "outputs": [
    {
     "data": {
      "text/plain": [
       "array([1, 2, 3, 4, 5])"
      ]
     },
     "execution_count": 148,
     "metadata": {},
     "output_type": "execute_result"
    }
   ],
   "source": [
    "np.arange(1, 6)"
   ]
  },
  {
   "cell_type": "code",
   "execution_count": null,
   "metadata": {},
   "outputs": [],
   "source": []
  }
 ],
 "metadata": {
  "kernelspec": {
   "display_name": "thesisproject",
   "language": "python",
   "name": "python3"
  },
  "language_info": {
   "codemirror_mode": {
    "name": "ipython",
    "version": 3
   },
   "file_extension": ".py",
   "mimetype": "text/x-python",
   "name": "python",
   "nbconvert_exporter": "python",
   "pygments_lexer": "ipython3",
   "version": "3.12.3"
  }
 },
 "nbformat": 4,
 "nbformat_minor": 2
}
