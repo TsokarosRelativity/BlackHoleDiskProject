{
 "cells": [
  {
   "cell_type": "code",
   "execution_count": 21,
   "id": "5867ed8b-c5a2-4ba3-aa60-8259877691c5",
   "metadata": {},
   "outputs": [],
   "source": [
    "import pandas as pd \n",
    "import numpy as np\n",
    "import matplotlib.pyplot as plt"
   ]
  },
  {
   "cell_type": "markdown",
   "id": "69f264fb-49fb-4777-8cbd-1536f7991e05",
   "metadata": {},
   "source": [
    "# Testing locate point routine"
   ]
  },
  {
   "cell_type": "markdown",
   "id": "15d15908-2776-41d6-8f10-4730432c27db",
   "metadata": {},
   "source": [
    "## test 1"
   ]
  },
  {
   "cell_type": "code",
   "execution_count": 23,
   "id": "feb49fd3-211a-48cb-ad7b-a727a6e2973b",
   "metadata": {},
   "outputs": [
    {
     "name": "stdout",
     "output_type": "stream",
     "text": [
      "grid data:\n",
      "r values : [ 0.  1.  2.  3.  4.  5.  6.  7.  8.  9. 10.]\n",
      "theta values : [0.         0.31415927 0.62831853 0.9424778  1.25663706 1.57079633\n",
      " 1.88495559 2.19911486 2.51327412 2.82743339 3.14159265]\n",
      "phi values : [0.         0.62831853 1.25663706 1.88495559 2.51327412 3.14159265\n",
      " 3.76991118 4.39822972 5.02654825 5.65486678 6.28318531]\n",
      "point to locate (cartesian): 0.5196152422706632 0.5196152422706632 0.5196152422706632\n",
      "point to locate (spherical): 0.9000000000000001 0.9553166181245093 0.9553166181245093\n",
      "surrounding points:\n",
      "[[0.         0.         0.        ]\n",
      " [1.         0.9424778  0.62831853]\n",
      " [1.         0.9424778  1.25663706]\n",
      " [1.         1.25663706 0.62831853]\n",
      " [1.         1.25663706 1.25663706]]\n"
     ]
    }
   ],
   "source": [
    "testr = np.linspace(0,10,11, dtype=np.float64)\n",
    "testtheta = np.linspace(0,np.pi,11, dtype=np.float64)\n",
    "testphi = np.linspace(0,2*np.pi,11, dtype=np.float64)\n",
    "print(\"grid data:\")\n",
    "print(\"r values : {}\".format(testr))\n",
    "print(\"theta values : {}\".format(testtheta))\n",
    "print(\"phi values : {}\".format(testphi))\n",
    "\n",
    "x = 0.5196152422706632\n",
    "y = 0.5196152422706632\n",
    "z = 0.5196152422706632\n",
    "print(\"point to locate (cartesian): {} {} {}\".format(x,y,z))\n",
    "def cartesiantospherical(x, y, z):\n",
    "    r = np.sqrt(x**2 + y**2 + z**2)\n",
    "    theta = np.arccos(z/r)\n",
    "    phi = np.arccos(z/r)\n",
    "    return r, theta, phi\n",
    "\n",
    "r, t, p = cartesiantospherical(x, y, z)\n",
    "print(\"point to locate (spherical): {} {} {}\".format(r, t, p))\n",
    "testcombs = [[np.float64(0),np.float64(0),np.float64(0)]]\n",
    "for t in testtheta[3:5]:\n",
    "    for p in testphi[1:3]:\n",
    "        testcombs.append([np.float64(1), t, p])\n",
    "print(\"surrounding points:\")\n",
    "print(np.array(testcombs))"
   ]
  },
  {
   "cell_type": "code",
   "execution_count": 24,
   "id": "907d3a71-d4ad-4fc5-8b74-45448c7153e4",
   "metadata": {},
   "outputs": [],
   "source": [
    "def locate_point(\n",
    "    r_arr, theta_arr, phi_arr, p\n",
    "):  # r_arr, theta_arr, phi_arr define the ID grid, p defines a point in the new grid\n",
    "    # p should be a tuple (x,y,z) in cartesian coords\n",
    "    x, y, z = p\n",
    "    r_0 = np.sqrt(x**2 + y**2 + z**2)\n",
    "    theta_0 = np.arccos(z / r_0)\n",
    "    phi_0 = np.arctan2(y, x)\n",
    "    phi_0 = phi_0 % (2 * np.pi)  # ensures phi takes values between [0,2pi]\n",
    "    rs, ts, ps = None, None, None\n",
    "\n",
    "    for i in range(len(r_arr) - 1):\n",
    "        if r_arr[i] <= r_0 <= r_arr[i + 1]:\n",
    "            rs = (r_arr[i], r_arr[i + 1])\n",
    "            break\n",
    "    for i in range(len(theta_arr) - 1):\n",
    "        if theta_arr[i] <= theta_0 <= theta_arr[i + 1]:\n",
    "            ts = (theta_arr[i], theta_arr[i + 1])\n",
    "            break\n",
    "    for i in range(len(phi_arr) - 1):\n",
    "        if phi_arr[i] <= phi_0 <= phi_arr[i + 1]:\n",
    "            ps = (phi_arr[i], phi_arr[i + 1])\n",
    "            break\n",
    "\n",
    "    if rs is None or ts is None or ps is None:\n",
    "        return None\n",
    "\n",
    "    combinations = []\n",
    "    if rs[0] == np.float64(0):\n",
    "        combinations.append([np.float64(0), np.float64(0), np.float64(0)])\n",
    "        for t in ts:\n",
    "            for p in ps:\n",
    "                combinations.append([rs[1], t, p])\n",
    "    else:\n",
    "        for r in rs:\n",
    "            for t in ts:\n",
    "                for p in ps:\n",
    "                    combinations.append([r, t, p])\n",
    "\n",
    "    return np.array(combinations)"
   ]
  },
  {
   "cell_type": "code",
   "execution_count": 25,
   "id": "2600505e-9e00-4783-9ce6-e8ad468e5539",
   "metadata": {},
   "outputs": [],
   "source": [
    "testpoint = x, y, z"
   ]
  },
  {
   "cell_type": "code",
   "execution_count": 26,
   "id": "ef249b58-b0ac-4e39-a53c-9566b30e16be",
   "metadata": {},
   "outputs": [],
   "source": [
    "combs = locate_point(testr, testtheta, testphi, testpoint)"
   ]
  },
  {
   "cell_type": "code",
   "execution_count": 27,
   "id": "77dd6ac0-77cb-4987-8262-b3a22521c39f",
   "metadata": {},
   "outputs": [
    {
     "data": {
      "text/plain": [
       "array([[0.        , 0.        , 0.        ],\n",
       "       [1.        , 0.9424778 , 0.62831853],\n",
       "       [1.        , 0.9424778 , 1.25663706],\n",
       "       [1.        , 1.25663706, 0.62831853],\n",
       "       [1.        , 1.25663706, 1.25663706]])"
      ]
     },
     "execution_count": 27,
     "metadata": {},
     "output_type": "execute_result"
    }
   ],
   "source": [
    "combs"
   ]
  },
  {
   "cell_type": "code",
   "execution_count": 28,
   "id": "b9cf899c-5850-4c45-8018-601bacc25f23",
   "metadata": {},
   "outputs": [
    {
     "data": {
      "text/plain": [
       "array([[0.        , 0.        , 0.        ],\n",
       "       [1.        , 0.9424778 , 0.62831853],\n",
       "       [1.        , 0.9424778 , 1.25663706],\n",
       "       [1.        , 1.25663706, 0.62831853],\n",
       "       [1.        , 1.25663706, 1.25663706]])"
      ]
     },
     "execution_count": 28,
     "metadata": {},
     "output_type": "execute_result"
    }
   ],
   "source": [
    "np.array(testcombs)"
   ]
  },
  {
   "cell_type": "markdown",
   "id": "6f03fdc5-88cd-4ea6-9208-b6006cd27197",
   "metadata": {},
   "source": [
    "## test 2"
   ]
  },
  {
   "cell_type": "code",
   "execution_count": 29,
   "id": "e262f916-2b1a-4b32-b1f4-6af29292b353",
   "metadata": {},
   "outputs": [
    {
     "name": "stdout",
     "output_type": "stream",
     "text": [
      "grid data:\n",
      "r values : [ 0.  1.  2.  3.  4.  5.  6.  7.  8.  9. 10.]\n",
      "theta values : [0.         0.31415927 0.62831853 0.9424778  1.25663706 1.57079633\n",
      " 1.88495559 2.19911486 2.51327412 2.82743339 3.14159265]\n",
      "phi values : [0.         0.62831853 1.25663706 1.88495559 2.51327412 3.14159265\n",
      " 3.76991118 4.39822972 5.02654825 5.65486678 6.28318531]\n",
      "point to locate (cartesian): 3.0 2.2 1.37\n",
      "point to locate (spherical): 3.964454565258631 1.2179492645832868 1.2179492645832868\n"
     ]
    }
   ],
   "source": [
    "testr = np.linspace(0,10,11, dtype=np.float64)\n",
    "testtheta = np.linspace(0,np.pi,11, dtype=np.float64)\n",
    "testphi = np.linspace(0,2*np.pi,11, dtype=np.float64)\n",
    "print(\"grid data:\")\n",
    "print(\"r values : {}\".format(testr))\n",
    "print(\"theta values : {}\".format(testtheta))\n",
    "print(\"phi values : {}\".format(testphi))\n",
    "\n",
    "x = np.float64(3)\n",
    "y = np.float64(2.2)\n",
    "z = np.float64(1.37)\n",
    "print(\"point to locate (cartesian): {} {} {}\".format(x,y,z))\n",
    "def cartesiantospherical(x, y, z):\n",
    "    r = np.sqrt(x**2 + y**2 + z**2)\n",
    "    theta = np.arccos(z/r)\n",
    "    phi = np.arccos(z/r)\n",
    "    return r, theta, phi\n",
    "\n",
    "r, t, p = cartesiantospherical(x, y, z)\n",
    "print(\"point to locate (spherical): {} {} {}\".format(r, t, p))"
   ]
  },
  {
   "cell_type": "code",
   "execution_count": 30,
   "id": "389c6756-8554-4e52-80b6-73f53ec28779",
   "metadata": {},
   "outputs": [
    {
     "name": "stdout",
     "output_type": "stream",
     "text": [
      "[3. 4.]\n",
      "[0.9424778  1.25663706]\n",
      "[1.88495559 2.51327412]\n"
     ]
    }
   ],
   "source": [
    "print(testr[3:5])\n",
    "print(testtheta[3:5])\n",
    "print(testphi[3:5])"
   ]
  },
  {
   "cell_type": "code",
   "execution_count": 31,
   "id": "833edf6c-6c02-4ee9-b95e-82c2627b8f22",
   "metadata": {},
   "outputs": [],
   "source": [
    "testcombs2 = []\n",
    "for r in testr[3:5]:\n",
    "    for t in testtheta[3:5]:\n",
    "        for p in testphi[3:5]:\n",
    "            testcombs2.append([r, t, p])"
   ]
  },
  {
   "cell_type": "code",
   "execution_count": 32,
   "id": "fba54b3a-fe26-49ee-bc46-b0b7405d52be",
   "metadata": {},
   "outputs": [
    {
     "data": {
      "text/plain": [
       "array([[3.        , 0.9424778 , 1.88495559],\n",
       "       [3.        , 0.9424778 , 2.51327412],\n",
       "       [3.        , 1.25663706, 1.88495559],\n",
       "       [3.        , 1.25663706, 2.51327412],\n",
       "       [4.        , 0.9424778 , 1.88495559],\n",
       "       [4.        , 0.9424778 , 2.51327412],\n",
       "       [4.        , 1.25663706, 1.88495559],\n",
       "       [4.        , 1.25663706, 2.51327412]])"
      ]
     },
     "execution_count": 32,
     "metadata": {},
     "output_type": "execute_result"
    }
   ],
   "source": [
    "np.array(testcombs2)"
   ]
  },
  {
   "cell_type": "code",
   "execution_count": 33,
   "id": "71bf877e-7193-4f42-9c5c-3eafc0a67dd6",
   "metadata": {},
   "outputs": [],
   "source": [
    "combs2 = locate_point(testr, testtheta, testphi, (x, y, z))"
   ]
  },
  {
   "cell_type": "code",
   "execution_count": 34,
   "id": "eb4ebb58-33d8-4a15-99ae-e44ca2331e69",
   "metadata": {},
   "outputs": [
    {
     "name": "stdout",
     "output_type": "stream",
     "text": [
      "[[3.         0.9424778  0.62831853]\n",
      " [3.         0.9424778  1.25663706]\n",
      " [3.         1.25663706 0.62831853]\n",
      " [3.         1.25663706 1.25663706]\n",
      " [4.         0.9424778  0.62831853]\n",
      " [4.         0.9424778  1.25663706]\n",
      " [4.         1.25663706 0.62831853]\n",
      " [4.         1.25663706 1.25663706]]\n"
     ]
    }
   ],
   "source": [
    "print(combs2)"
   ]
  },
  {
   "cell_type": "markdown",
   "id": "205c562e-1586-4670-b0ff-3e1640f8c069",
   "metadata": {},
   "source": [
    "# test interpolation_point function"
   ]
  },
  {
   "cell_type": "code",
   "execution_count": 35,
   "id": "36cbde3e-76fe-41d9-aa2a-79f467f464d0",
   "metadata": {},
   "outputs": [],
   "source": [
    "def calc_weighted_average(points, scalar_values, p):\n",
    "    p = np.array(p)\n",
    "    d = np.sum((points - p) ** 2, axis=1)\n",
    "    weights = 1.0 / (d + 1e-6) ** 2\n",
    "\n",
    "    if np.any(d <= 1e-6):\n",
    "        return scalar_values[np.argmin(d)]\n",
    "\n",
    "    return np.sum(weights * scalar_values) / np.sum(weights)\n",
    "\n",
    "def interpolate_point(p, df, rad_arr, theta_arr, phi_arr, idx_point_map):\n",
    "    num_scalars = len(df.columns) - 3\n",
    "    surrounding_pts = locate_point(rad_arr, theta_arr, phi_arr, p)\n",
    "\n",
    "    if surrounding_pts is None:\n",
    "        raise ValueError(\"point p is outside grid domain\")\n",
    "\n",
    "    points = np.empty((len(surrounding_pts), 3))\n",
    "    scalars = np.empty((len(surrounding_pts), num_scalars))\n",
    "\n",
    "    for i, point in enumerate(surrounding_pts):\n",
    "        r, t, p = point\n",
    "        index = idx_point_map[(r, t, p)]\n",
    "        if index is None:\n",
    "            raise ValueError(\"point p is outside grid domain\")\n",
    "        closestrow = df.iloc[index]\n",
    "        points[i] = spherical2cart(\n",
    "            closestrow.iloc[0], closestrow.iloc[1], closestrow.iloc[2]\n",
    "        )\n",
    "        scalars[i] = closestrow[3:].values\n",
    "\n",
    "    interpolatedvals = np.array(\n",
    "        [calc_weighted_average(points, scalars[:, j], p) for j in range(num_scalars)]\n",
    "    )\n",
    "    return interpolatedvals"
   ]
  },
  {
   "cell_type": "code",
   "execution_count": 64,
   "id": "9df6d62e-9816-4d1b-8a54-655047899243",
   "metadata": {},
   "outputs": [
    {
     "data": {
      "text/html": [
       "<div>\n",
       "<style scoped>\n",
       "    .dataframe tbody tr th:only-of-type {\n",
       "        vertical-align: middle;\n",
       "    }\n",
       "\n",
       "    .dataframe tbody tr th {\n",
       "        vertical-align: top;\n",
       "    }\n",
       "\n",
       "    .dataframe thead th {\n",
       "        text-align: right;\n",
       "    }\n",
       "</style>\n",
       "<table border=\"1\" class=\"dataframe\">\n",
       "  <thead>\n",
       "    <tr style=\"text-align: right;\">\n",
       "      <th></th>\n",
       "      <th>r</th>\n",
       "      <th>theta</th>\n",
       "      <th>phi</th>\n",
       "    </tr>\n",
       "  </thead>\n",
       "  <tbody>\n",
       "    <tr>\n",
       "      <th>0</th>\n",
       "      <td>0.0</td>\n",
       "      <td>0.000000</td>\n",
       "      <td>0.000000</td>\n",
       "    </tr>\n",
       "    <tr>\n",
       "      <th>1</th>\n",
       "      <td>0.0</td>\n",
       "      <td>0.031733</td>\n",
       "      <td>0.000000</td>\n",
       "    </tr>\n",
       "    <tr>\n",
       "      <th>2</th>\n",
       "      <td>0.0</td>\n",
       "      <td>0.063467</td>\n",
       "      <td>0.000000</td>\n",
       "    </tr>\n",
       "    <tr>\n",
       "      <th>3</th>\n",
       "      <td>0.0</td>\n",
       "      <td>0.095200</td>\n",
       "      <td>0.000000</td>\n",
       "    </tr>\n",
       "    <tr>\n",
       "      <th>4</th>\n",
       "      <td>0.0</td>\n",
       "      <td>0.126933</td>\n",
       "      <td>0.000000</td>\n",
       "    </tr>\n",
       "    <tr>\n",
       "      <th>...</th>\n",
       "      <td>...</td>\n",
       "      <td>...</td>\n",
       "      <td>...</td>\n",
       "    </tr>\n",
       "    <tr>\n",
       "      <th>999995</th>\n",
       "      <td>100.0</td>\n",
       "      <td>3.014660</td>\n",
       "      <td>6.283185</td>\n",
       "    </tr>\n",
       "    <tr>\n",
       "      <th>999996</th>\n",
       "      <td>100.0</td>\n",
       "      <td>3.046393</td>\n",
       "      <td>6.283185</td>\n",
       "    </tr>\n",
       "    <tr>\n",
       "      <th>999997</th>\n",
       "      <td>100.0</td>\n",
       "      <td>3.078126</td>\n",
       "      <td>6.283185</td>\n",
       "    </tr>\n",
       "    <tr>\n",
       "      <th>999998</th>\n",
       "      <td>100.0</td>\n",
       "      <td>3.109859</td>\n",
       "      <td>6.283185</td>\n",
       "    </tr>\n",
       "    <tr>\n",
       "      <th>999999</th>\n",
       "      <td>100.0</td>\n",
       "      <td>3.141593</td>\n",
       "      <td>6.283185</td>\n",
       "    </tr>\n",
       "  </tbody>\n",
       "</table>\n",
       "<p>1000000 rows × 3 columns</p>\n",
       "</div>"
      ],
      "text/plain": [
       "            r     theta       phi\n",
       "0         0.0  0.000000  0.000000\n",
       "1         0.0  0.031733  0.000000\n",
       "2         0.0  0.063467  0.000000\n",
       "3         0.0  0.095200  0.000000\n",
       "4         0.0  0.126933  0.000000\n",
       "...       ...       ...       ...\n",
       "999995  100.0  3.014660  6.283185\n",
       "999996  100.0  3.046393  6.283185\n",
       "999997  100.0  3.078126  6.283185\n",
       "999998  100.0  3.109859  6.283185\n",
       "999999  100.0  3.141593  6.283185\n",
       "\n",
       "[1000000 rows x 3 columns]"
      ]
     },
     "execution_count": 64,
     "metadata": {},
     "output_type": "execute_result"
    }
   ],
   "source": [
    "r_arr = np.linspace(0, 100, 100, dtype=np.float64)\n",
    "t_arr = np.linspace(0, np.pi, 100, dtype=np.float64)\n",
    "p_arr = np.linspace(0, 2*np.pi, 100, dtype=np.float64)\n",
    "gridpoint = np.array(np.meshgrid(r_arr, t_arr, p_arr)).T.reshape(-1, 3)\n",
    "df = pd.DataFrame(gridpoint, columns = [\"r\", \"theta\", \"phi\"])\n",
    "df"
   ]
  },
  {
   "cell_type": "code",
   "execution_count": 65,
   "id": "19f12760-ff80-49a7-8833-6d210b0c8f43",
   "metadata": {},
   "outputs": [],
   "source": [
    "df[\"Z(r,t,p)\"] = df.r * np.cos(df.theta)"
   ]
  },
  {
   "cell_type": "code",
   "execution_count": 66,
   "id": "f94cff20-641b-4d74-a443-d0358cae4300",
   "metadata": {},
   "outputs": [],
   "source": [
    "df[\"Y(r,t,p)\"] = df.r*np.sin(df.theta)*np.sin(df.phi)"
   ]
  },
  {
   "cell_type": "code",
   "execution_count": 67,
   "id": "313e7169-0210-4b86-a5a9-794066f12fc0",
   "metadata": {},
   "outputs": [],
   "source": [
    "df[\"X(r,t,p)\"] = df.r*np.sin(df.theta)*np.cos(df.phi)"
   ]
  },
  {
   "cell_type": "code",
   "execution_count": 68,
   "id": "a7db4b8b-3cc8-4f68-8e31-c19b14f60059",
   "metadata": {},
   "outputs": [
    {
     "data": {
      "text/html": [
       "<div>\n",
       "<style scoped>\n",
       "    .dataframe tbody tr th:only-of-type {\n",
       "        vertical-align: middle;\n",
       "    }\n",
       "\n",
       "    .dataframe tbody tr th {\n",
       "        vertical-align: top;\n",
       "    }\n",
       "\n",
       "    .dataframe thead th {\n",
       "        text-align: right;\n",
       "    }\n",
       "</style>\n",
       "<table border=\"1\" class=\"dataframe\">\n",
       "  <thead>\n",
       "    <tr style=\"text-align: right;\">\n",
       "      <th></th>\n",
       "      <th>r</th>\n",
       "      <th>theta</th>\n",
       "      <th>phi</th>\n",
       "      <th>Z(r,t,p)</th>\n",
       "      <th>Y(r,t,p)</th>\n",
       "      <th>X(r,t,p)</th>\n",
       "    </tr>\n",
       "  </thead>\n",
       "  <tbody>\n",
       "    <tr>\n",
       "      <th>0</th>\n",
       "      <td>0.0</td>\n",
       "      <td>0.000000</td>\n",
       "      <td>0.000000</td>\n",
       "      <td>0.000000</td>\n",
       "      <td>0.000000e+00</td>\n",
       "      <td>0.000000e+00</td>\n",
       "    </tr>\n",
       "    <tr>\n",
       "      <th>1</th>\n",
       "      <td>0.0</td>\n",
       "      <td>0.031733</td>\n",
       "      <td>0.000000</td>\n",
       "      <td>0.000000</td>\n",
       "      <td>0.000000e+00</td>\n",
       "      <td>0.000000e+00</td>\n",
       "    </tr>\n",
       "    <tr>\n",
       "      <th>2</th>\n",
       "      <td>0.0</td>\n",
       "      <td>0.063467</td>\n",
       "      <td>0.000000</td>\n",
       "      <td>0.000000</td>\n",
       "      <td>0.000000e+00</td>\n",
       "      <td>0.000000e+00</td>\n",
       "    </tr>\n",
       "    <tr>\n",
       "      <th>3</th>\n",
       "      <td>0.0</td>\n",
       "      <td>0.095200</td>\n",
       "      <td>0.000000</td>\n",
       "      <td>0.000000</td>\n",
       "      <td>0.000000e+00</td>\n",
       "      <td>0.000000e+00</td>\n",
       "    </tr>\n",
       "    <tr>\n",
       "      <th>4</th>\n",
       "      <td>0.0</td>\n",
       "      <td>0.126933</td>\n",
       "      <td>0.000000</td>\n",
       "      <td>0.000000</td>\n",
       "      <td>0.000000e+00</td>\n",
       "      <td>0.000000e+00</td>\n",
       "    </tr>\n",
       "    <tr>\n",
       "      <th>...</th>\n",
       "      <td>...</td>\n",
       "      <td>...</td>\n",
       "      <td>...</td>\n",
       "      <td>...</td>\n",
       "      <td>...</td>\n",
       "      <td>...</td>\n",
       "    </tr>\n",
       "    <tr>\n",
       "      <th>999995</th>\n",
       "      <td>100.0</td>\n",
       "      <td>3.014660</td>\n",
       "      <td>6.283185</td>\n",
       "      <td>-99.195481</td>\n",
       "      <td>-3.100621e-15</td>\n",
       "      <td>1.265925e+01</td>\n",
       "    </tr>\n",
       "    <tr>\n",
       "      <th>999996</th>\n",
       "      <td>100.0</td>\n",
       "      <td>3.046393</td>\n",
       "      <td>6.283185</td>\n",
       "      <td>-99.547192</td>\n",
       "      <td>-2.328202e-15</td>\n",
       "      <td>9.505604e+00</td>\n",
       "    </tr>\n",
       "    <tr>\n",
       "      <th>999997</th>\n",
       "      <td>100.0</td>\n",
       "      <td>3.078126</td>\n",
       "      <td>6.283185</td>\n",
       "      <td>-99.798668</td>\n",
       "      <td>-1.553438e-15</td>\n",
       "      <td>6.342392e+00</td>\n",
       "    </tr>\n",
       "    <tr>\n",
       "      <th>999998</th>\n",
       "      <td>100.0</td>\n",
       "      <td>3.109859</td>\n",
       "      <td>6.283185</td>\n",
       "      <td>-99.949654</td>\n",
       "      <td>-7.771102e-16</td>\n",
       "      <td>3.172793e+00</td>\n",
       "    </tr>\n",
       "    <tr>\n",
       "      <th>999999</th>\n",
       "      <td>100.0</td>\n",
       "      <td>3.141593</td>\n",
       "      <td>6.283185</td>\n",
       "      <td>-100.000000</td>\n",
       "      <td>-2.999520e-30</td>\n",
       "      <td>1.224647e-14</td>\n",
       "    </tr>\n",
       "  </tbody>\n",
       "</table>\n",
       "<p>1000000 rows × 6 columns</p>\n",
       "</div>"
      ],
      "text/plain": [
       "            r     theta       phi    Z(r,t,p)      Y(r,t,p)      X(r,t,p)\n",
       "0         0.0  0.000000  0.000000    0.000000  0.000000e+00  0.000000e+00\n",
       "1         0.0  0.031733  0.000000    0.000000  0.000000e+00  0.000000e+00\n",
       "2         0.0  0.063467  0.000000    0.000000  0.000000e+00  0.000000e+00\n",
       "3         0.0  0.095200  0.000000    0.000000  0.000000e+00  0.000000e+00\n",
       "4         0.0  0.126933  0.000000    0.000000  0.000000e+00  0.000000e+00\n",
       "...       ...       ...       ...         ...           ...           ...\n",
       "999995  100.0  3.014660  6.283185  -99.195481 -3.100621e-15  1.265925e+01\n",
       "999996  100.0  3.046393  6.283185  -99.547192 -2.328202e-15  9.505604e+00\n",
       "999997  100.0  3.078126  6.283185  -99.798668 -1.553438e-15  6.342392e+00\n",
       "999998  100.0  3.109859  6.283185  -99.949654 -7.771102e-16  3.172793e+00\n",
       "999999  100.0  3.141593  6.283185 -100.000000 -2.999520e-30  1.224647e-14\n",
       "\n",
       "[1000000 rows x 6 columns]"
      ]
     },
     "execution_count": 68,
     "metadata": {},
     "output_type": "execute_result"
    }
   ],
   "source": [
    "df"
   ]
  },
  {
   "cell_type": "code",
   "execution_count": 70,
   "id": "7d101c3c-1241-4c4d-a14e-1b67e4003eec",
   "metadata": {},
   "outputs": [],
   "source": [
    "def locate_point(\n",
    "    r_arr, theta_arr, phi_arr, p\n",
    "):  # r_arr, theta_arr, phi_arr define the ID grid, p defines a point in the new grid\n",
    "    # p should be a tuple (x,y,z) in cartesian coords\n",
    "    x, y, z = p\n",
    "    r_0 = np.sqrt(x**2 + y**2 + z**2)\n",
    "    theta_0 = np.arccos(z / r_0)\n",
    "    phi_0 = np.arctan2(y, x)\n",
    "    phi_0 = phi_0 % (2 * np.pi)  # ensures phi takes values between [0,2pi]\n",
    "    rs, ts, ps = None, None, None\n",
    "\n",
    "    for i in range(len(r_arr) - 1):\n",
    "        if r_arr[i] <= r_0 <= r_arr[i + 1]:\n",
    "            rs = (r_arr[i], r_arr[i + 1])\n",
    "            break\n",
    "    for i in range(len(theta_arr) - 1):\n",
    "        if theta_arr[i] <= theta_0 <= theta_arr[i + 1]:\n",
    "            ts = (theta_arr[i], theta_arr[i + 1])\n",
    "            break\n",
    "    for i in range(len(phi_arr) - 1):\n",
    "        if phi_arr[i] <= phi_0 <= phi_arr[i + 1]:\n",
    "            ps = (phi_arr[i], phi_arr[i + 1])\n",
    "            break\n",
    "\n",
    "    if rs is None or ts is None or ps is None:\n",
    "        return None\n",
    "\n",
    "    combinations = []\n",
    "    if rs[0] == np.float64(0):\n",
    "        combinations.append([np.float64(0), np.float64(0), np.float64(0)])\n",
    "        for t in ts:\n",
    "            for p in ps:\n",
    "                combinations.append([rs[1], t, p])\n",
    "    else:\n",
    "        for r in rs:\n",
    "            for t in ts:\n",
    "                for p in ps:\n",
    "                    combinations.append([r, t, p])\n",
    "\n",
    "    return np.array(combinations)\n",
    "    \n",
    "# https://en.wikipedia.org/wiki/Inverse_distance_weighting\n",
    "def calc_weighted_average(points, scalar_values, p):\n",
    "    # points should be a numpy array\n",
    "    # Compute distances from each point to p\n",
    "    # Compute weights (inverse distances)\n",
    "    #    weights = 1.0 / distances\n",
    "    p = np.array(p)\n",
    "    d = np.sum((points - p) ** 2, axis=1)\n",
    "    weights = 1.0 / ((d + 1e-6) ** 2)\n",
    "\n",
    "    if np.any(d <= 1e-6):\n",
    "        return scalar_values[np.argmin(d)]\n",
    "\n",
    "    return np.sum(weights * scalar_values) / np.sum(weights)\n",
    "\n",
    "def spherical2cart(r, t, p):\n",
    "    x = r * np.sin(t) * np.cos(p)\n",
    "    y = r * np.sin(t) * np.sin(p)\n",
    "    z = r * np.cos(t)\n",
    "    return (x, y, z)\n",
    "\n",
    "\n",
    "# data = load_3d_data('3D_data/ext_cur.3d')\n",
    "def interpolate_point(p, df, rad_arr, theta_arr, phi_arr, idx_point_map):\n",
    "    num_scalars = len(df.columns) - 3\n",
    "    surrounding_pts = locate_point(rad_arr, theta_arr, phi_arr, p)\n",
    "\n",
    "    if surrounding_pts is None:\n",
    "        raise ValueError(\"point p is outside grid domain\")\n",
    "\n",
    "    points = np.empty((len(surrounding_pts), 3))\n",
    "    scalars = np.empty((len(surrounding_pts), num_scalars))\n",
    "\n",
    "    for i, point in enumerate(surrounding_pts):\n",
    "        r, t, p = point\n",
    "        index = idx_point_map[(r, t, p)]\n",
    "        if index is None:\n",
    "            raise ValueError(\"point p is outside grid domain\")\n",
    "        closestrow = df.iloc[index]\n",
    "        points[i] = spherical2cart(\n",
    "            closestrow.iloc[0], closestrow.iloc[1], closestrow.iloc[2]\n",
    "        )\n",
    "        scalars[i] = closestrow[3:].values\n",
    "\n",
    "    interpolatedvals = np.array(\n",
    "        [calc_weighted_average(points, scalars[:, j], p) for j in range(num_scalars)]\n",
    "    )\n",
    "    return interpolatedvals"
   ]
  },
  {
   "cell_type": "code",
   "execution_count": 71,
   "id": "9ea69647-f753-4a48-bf1a-f2a5962df5e1",
   "metadata": {},
   "outputs": [],
   "source": [
    "rad_arr = np.sort(df.r.unique())\n",
    "theta_arr = np.sort(df.theta.unique())\n",
    "phi_arr = np.sort(df.phi.unique())\n",
    "idx_point_map = {\n",
    "    (r, theta, phi): index\n",
    "    for index, (r, theta, phi) in enumerate(zip(df[\"r\"], df[\"theta\"], df[\"phi\"]))\n",
    "}"
   ]
  },
  {
   "cell_type": "code",
   "execution_count": 77,
   "id": "61aa4075-1252-4304-bd36-b574f26612a9",
   "metadata": {},
   "outputs": [],
   "source": [
    "points = np.array([\n",
    "    np.array([0.4, 0.2, 0.5]),\n",
    "    np.array([14, 1/5, 1/9]),\n",
    "    np.array([12.1, 7*np.pi/4, 9*np.pi/11]),\n",
    "])"
   ]
  },
  {
   "cell_type": "code",
   "execution_count": 80,
   "id": "12e86d2d-81e9-495f-95b8-694f722f8b43",
   "metadata": {},
   "outputs": [
    {
     "data": {
      "text/plain": [
       "array([[13.13131313,  1.5549297 ,  0.        ],\n",
       "       [13.13131313,  1.5549297 ,  0.06346652],\n",
       "       [13.13131313,  1.58666296,  0.        ],\n",
       "       [13.13131313,  1.58666296,  0.06346652],\n",
       "       [14.14141414,  1.5549297 ,  0.        ],\n",
       "       [14.14141414,  1.5549297 ,  0.06346652],\n",
       "       [14.14141414,  1.58666296,  0.        ],\n",
       "       [14.14141414,  1.58666296,  0.06346652]])"
      ]
     },
     "execution_count": 80,
     "metadata": {},
     "output_type": "execute_result"
    }
   ],
   "source": [
    "locate_point(rad_arr, theta_arr, phi_arr, points[1])"
   ]
  },
  {
   "cell_type": "code",
   "execution_count": 85,
   "id": "0e2ee20a-5bce-4aaa-9c22-915c363f0986",
   "metadata": {},
   "outputs": [
    {
     "data": {
      "text/plain": [
       "array([ 2.56597803,  5.33525682, 12.18837909])"
      ]
     },
     "execution_count": 85,
     "metadata": {},
     "output_type": "execute_result"
    }
   ],
   "source": [
    "interpolate_point(points[2], df, rad_arr, theta_arr, phi_arr, idx_point_map)"
   ]
  },
  {
   "cell_type": "code",
   "execution_count": 87,
   "id": "a7d87791-2610-4c90-b9cd-ddc5c2883a3b",
   "metadata": {},
   "outputs": [],
   "source": [
    "d = []\n",
    "for p in points:\n",
    "    d.append(interpolate_point(p, df, rad_arr, theta_arr, phi_arr, idx_point_map))"
   ]
  },
  {
   "cell_type": "code",
   "execution_count": 89,
   "id": "9ac8cfbc-7947-485a-9c76-ba1c5ac37127",
   "metadata": {},
   "outputs": [],
   "source": [
    "d = np.array(d)"
   ]
  },
  {
   "cell_type": "code",
   "execution_count": 90,
   "id": "528a65e3-7c69-4950-8a81-c6fb3529df40",
   "metadata": {},
   "outputs": [
    {
     "data": {
      "text/plain": [
       "array([[7.58149860e-01, 3.04897315e-01, 5.84051412e-01],\n",
       "       [6.45243986e-05, 4.30263490e-01, 1.35463350e+01],\n",
       "       [2.56597803e+00, 5.33525682e+00, 1.21883791e+01]])"
      ]
     },
     "execution_count": 90,
     "metadata": {},
     "output_type": "execute_result"
    }
   ],
   "source": [
    "d"
   ]
  },
  {
   "cell_type": "code",
   "execution_count": 91,
   "id": "4927d83a-90ef-4bba-bd60-fb1310f145fb",
   "metadata": {},
   "outputs": [],
   "source": [
    "ddf = pd.DataFrame(d, columns=[\"r\", \"theta\", \"phi\"])"
   ]
  },
  {
   "cell_type": "code",
   "execution_count": 92,
   "id": "5b083068-741a-4bff-911b-2e6232cad182",
   "metadata": {},
   "outputs": [
    {
     "data": {
      "text/html": [
       "<div>\n",
       "<style scoped>\n",
       "    .dataframe tbody tr th:only-of-type {\n",
       "        vertical-align: middle;\n",
       "    }\n",
       "\n",
       "    .dataframe tbody tr th {\n",
       "        vertical-align: top;\n",
       "    }\n",
       "\n",
       "    .dataframe thead th {\n",
       "        text-align: right;\n",
       "    }\n",
       "</style>\n",
       "<table border=\"1\" class=\"dataframe\">\n",
       "  <thead>\n",
       "    <tr style=\"text-align: right;\">\n",
       "      <th></th>\n",
       "      <th>r</th>\n",
       "      <th>theta</th>\n",
       "      <th>phi</th>\n",
       "    </tr>\n",
       "  </thead>\n",
       "  <tbody>\n",
       "    <tr>\n",
       "      <th>0</th>\n",
       "      <td>0.758150</td>\n",
       "      <td>0.304897</td>\n",
       "      <td>0.584051</td>\n",
       "    </tr>\n",
       "    <tr>\n",
       "      <th>1</th>\n",
       "      <td>0.000065</td>\n",
       "      <td>0.430263</td>\n",
       "      <td>13.546335</td>\n",
       "    </tr>\n",
       "    <tr>\n",
       "      <th>2</th>\n",
       "      <td>2.565978</td>\n",
       "      <td>5.335257</td>\n",
       "      <td>12.188379</td>\n",
       "    </tr>\n",
       "  </tbody>\n",
       "</table>\n",
       "</div>"
      ],
      "text/plain": [
       "          r     theta        phi\n",
       "0  0.758150  0.304897   0.584051\n",
       "1  0.000065  0.430263  13.546335\n",
       "2  2.565978  5.335257  12.188379"
      ]
     },
     "execution_count": 92,
     "metadata": {},
     "output_type": "execute_result"
    }
   ],
   "source": [
    "ddf"
   ]
  },
  {
   "cell_type": "code",
   "execution_count": null,
   "id": "f20abb5e-9070-4e19-b9ba-e10696f6f28c",
   "metadata": {},
   "outputs": [],
   "source": []
  }
 ],
 "metadata": {
  "kernelspec": {
   "display_name": "Python 3 (ipykernel)",
   "language": "python",
   "name": "python3"
  },
  "language_info": {
   "codemirror_mode": {
    "name": "ipython",
    "version": 3
   },
   "file_extension": ".py",
   "mimetype": "text/x-python",
   "name": "python",
   "nbconvert_exporter": "python",
   "pygments_lexer": "ipython3",
   "version": "3.12.3"
  }
 },
 "nbformat": 4,
 "nbformat_minor": 5
}
